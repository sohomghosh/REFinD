{
  "nbformat": 4,
  "nbformat_minor": 0,
  "metadata": {
    "colab": {
      "provenance": []
    },
    "kernelspec": {
      "name": "python3",
      "display_name": "Python 3"
    },
    "language_info": {
      "name": "python"
    },
    "gpuClass": "standard",
    "widgets": {
      "application/vnd.jupyter.widget-state+json": {
        "8a989ba2f9e54f20948ca101376b21b0": {
          "model_module": "@jupyter-widgets/controls",
          "model_name": "HBoxModel",
          "model_module_version": "1.5.0",
          "state": {
            "_dom_classes": [],
            "_model_module": "@jupyter-widgets/controls",
            "_model_module_version": "1.5.0",
            "_model_name": "HBoxModel",
            "_view_count": null,
            "_view_module": "@jupyter-widgets/controls",
            "_view_module_version": "1.5.0",
            "_view_name": "HBoxView",
            "box_style": "",
            "children": [
              "IPY_MODEL_05035efa1b7441a48c431d1bca11b870",
              "IPY_MODEL_117a8d8b1f174c00bd0f4b4213e4a2b9",
              "IPY_MODEL_e12a40595f6d460182ea85b47885f6c2"
            ],
            "layout": "IPY_MODEL_016bb510efe345ac816d3364fdb54ce2"
          }
        },
        "05035efa1b7441a48c431d1bca11b870": {
          "model_module": "@jupyter-widgets/controls",
          "model_name": "HTMLModel",
          "model_module_version": "1.5.0",
          "state": {
            "_dom_classes": [],
            "_model_module": "@jupyter-widgets/controls",
            "_model_module_version": "1.5.0",
            "_model_name": "HTMLModel",
            "_view_count": null,
            "_view_module": "@jupyter-widgets/controls",
            "_view_module_version": "1.5.0",
            "_view_name": "HTMLView",
            "description": "",
            "description_tooltip": null,
            "layout": "IPY_MODEL_8b71ec94ccee43b38bca2377547477c4",
            "placeholder": "​",
            "style": "IPY_MODEL_0b1f7218e3cd403db72ed3ca1c0259d4",
            "value": "Downloading (…)okenizer_config.json: 100%"
          }
        },
        "117a8d8b1f174c00bd0f4b4213e4a2b9": {
          "model_module": "@jupyter-widgets/controls",
          "model_name": "FloatProgressModel",
          "model_module_version": "1.5.0",
          "state": {
            "_dom_classes": [],
            "_model_module": "@jupyter-widgets/controls",
            "_model_module_version": "1.5.0",
            "_model_name": "FloatProgressModel",
            "_view_count": null,
            "_view_module": "@jupyter-widgets/controls",
            "_view_module_version": "1.5.0",
            "_view_name": "ProgressView",
            "bar_style": "success",
            "description": "",
            "description_tooltip": null,
            "layout": "IPY_MODEL_a88c3a4df7ee4410b7df50795e1c6e91",
            "max": 263,
            "min": 0,
            "orientation": "horizontal",
            "style": "IPY_MODEL_1b1b3537d66f43ae91d89500da1792b1",
            "value": 263
          }
        },
        "e12a40595f6d460182ea85b47885f6c2": {
          "model_module": "@jupyter-widgets/controls",
          "model_name": "HTMLModel",
          "model_module_version": "1.5.0",
          "state": {
            "_dom_classes": [],
            "_model_module": "@jupyter-widgets/controls",
            "_model_module_version": "1.5.0",
            "_model_name": "HTMLModel",
            "_view_count": null,
            "_view_module": "@jupyter-widgets/controls",
            "_view_module_version": "1.5.0",
            "_view_name": "HTMLView",
            "description": "",
            "description_tooltip": null,
            "layout": "IPY_MODEL_93362dc9fe57473ab5778964e50fdc53",
            "placeholder": "​",
            "style": "IPY_MODEL_ac80fb433f9a402992d19ad46697e781",
            "value": " 263/263 [00:00&lt;00:00, 5.03kB/s]"
          }
        },
        "016bb510efe345ac816d3364fdb54ce2": {
          "model_module": "@jupyter-widgets/base",
          "model_name": "LayoutModel",
          "model_module_version": "1.2.0",
          "state": {
            "_model_module": "@jupyter-widgets/base",
            "_model_module_version": "1.2.0",
            "_model_name": "LayoutModel",
            "_view_count": null,
            "_view_module": "@jupyter-widgets/base",
            "_view_module_version": "1.2.0",
            "_view_name": "LayoutView",
            "align_content": null,
            "align_items": null,
            "align_self": null,
            "border": null,
            "bottom": null,
            "display": null,
            "flex": null,
            "flex_flow": null,
            "grid_area": null,
            "grid_auto_columns": null,
            "grid_auto_flow": null,
            "grid_auto_rows": null,
            "grid_column": null,
            "grid_gap": null,
            "grid_row": null,
            "grid_template_areas": null,
            "grid_template_columns": null,
            "grid_template_rows": null,
            "height": null,
            "justify_content": null,
            "justify_items": null,
            "left": null,
            "margin": null,
            "max_height": null,
            "max_width": null,
            "min_height": null,
            "min_width": null,
            "object_fit": null,
            "object_position": null,
            "order": null,
            "overflow": null,
            "overflow_x": null,
            "overflow_y": null,
            "padding": null,
            "right": null,
            "top": null,
            "visibility": null,
            "width": null
          }
        },
        "8b71ec94ccee43b38bca2377547477c4": {
          "model_module": "@jupyter-widgets/base",
          "model_name": "LayoutModel",
          "model_module_version": "1.2.0",
          "state": {
            "_model_module": "@jupyter-widgets/base",
            "_model_module_version": "1.2.0",
            "_model_name": "LayoutModel",
            "_view_count": null,
            "_view_module": "@jupyter-widgets/base",
            "_view_module_version": "1.2.0",
            "_view_name": "LayoutView",
            "align_content": null,
            "align_items": null,
            "align_self": null,
            "border": null,
            "bottom": null,
            "display": null,
            "flex": null,
            "flex_flow": null,
            "grid_area": null,
            "grid_auto_columns": null,
            "grid_auto_flow": null,
            "grid_auto_rows": null,
            "grid_column": null,
            "grid_gap": null,
            "grid_row": null,
            "grid_template_areas": null,
            "grid_template_columns": null,
            "grid_template_rows": null,
            "height": null,
            "justify_content": null,
            "justify_items": null,
            "left": null,
            "margin": null,
            "max_height": null,
            "max_width": null,
            "min_height": null,
            "min_width": null,
            "object_fit": null,
            "object_position": null,
            "order": null,
            "overflow": null,
            "overflow_x": null,
            "overflow_y": null,
            "padding": null,
            "right": null,
            "top": null,
            "visibility": null,
            "width": null
          }
        },
        "0b1f7218e3cd403db72ed3ca1c0259d4": {
          "model_module": "@jupyter-widgets/controls",
          "model_name": "DescriptionStyleModel",
          "model_module_version": "1.5.0",
          "state": {
            "_model_module": "@jupyter-widgets/controls",
            "_model_module_version": "1.5.0",
            "_model_name": "DescriptionStyleModel",
            "_view_count": null,
            "_view_module": "@jupyter-widgets/base",
            "_view_module_version": "1.2.0",
            "_view_name": "StyleView",
            "description_width": ""
          }
        },
        "a88c3a4df7ee4410b7df50795e1c6e91": {
          "model_module": "@jupyter-widgets/base",
          "model_name": "LayoutModel",
          "model_module_version": "1.2.0",
          "state": {
            "_model_module": "@jupyter-widgets/base",
            "_model_module_version": "1.2.0",
            "_model_name": "LayoutModel",
            "_view_count": null,
            "_view_module": "@jupyter-widgets/base",
            "_view_module_version": "1.2.0",
            "_view_name": "LayoutView",
            "align_content": null,
            "align_items": null,
            "align_self": null,
            "border": null,
            "bottom": null,
            "display": null,
            "flex": null,
            "flex_flow": null,
            "grid_area": null,
            "grid_auto_columns": null,
            "grid_auto_flow": null,
            "grid_auto_rows": null,
            "grid_column": null,
            "grid_gap": null,
            "grid_row": null,
            "grid_template_areas": null,
            "grid_template_columns": null,
            "grid_template_rows": null,
            "height": null,
            "justify_content": null,
            "justify_items": null,
            "left": null,
            "margin": null,
            "max_height": null,
            "max_width": null,
            "min_height": null,
            "min_width": null,
            "object_fit": null,
            "object_position": null,
            "order": null,
            "overflow": null,
            "overflow_x": null,
            "overflow_y": null,
            "padding": null,
            "right": null,
            "top": null,
            "visibility": null,
            "width": null
          }
        },
        "1b1b3537d66f43ae91d89500da1792b1": {
          "model_module": "@jupyter-widgets/controls",
          "model_name": "ProgressStyleModel",
          "model_module_version": "1.5.0",
          "state": {
            "_model_module": "@jupyter-widgets/controls",
            "_model_module_version": "1.5.0",
            "_model_name": "ProgressStyleModel",
            "_view_count": null,
            "_view_module": "@jupyter-widgets/base",
            "_view_module_version": "1.2.0",
            "_view_name": "StyleView",
            "bar_color": null,
            "description_width": ""
          }
        },
        "93362dc9fe57473ab5778964e50fdc53": {
          "model_module": "@jupyter-widgets/base",
          "model_name": "LayoutModel",
          "model_module_version": "1.2.0",
          "state": {
            "_model_module": "@jupyter-widgets/base",
            "_model_module_version": "1.2.0",
            "_model_name": "LayoutModel",
            "_view_count": null,
            "_view_module": "@jupyter-widgets/base",
            "_view_module_version": "1.2.0",
            "_view_name": "LayoutView",
            "align_content": null,
            "align_items": null,
            "align_self": null,
            "border": null,
            "bottom": null,
            "display": null,
            "flex": null,
            "flex_flow": null,
            "grid_area": null,
            "grid_auto_columns": null,
            "grid_auto_flow": null,
            "grid_auto_rows": null,
            "grid_column": null,
            "grid_gap": null,
            "grid_row": null,
            "grid_template_areas": null,
            "grid_template_columns": null,
            "grid_template_rows": null,
            "height": null,
            "justify_content": null,
            "justify_items": null,
            "left": null,
            "margin": null,
            "max_height": null,
            "max_width": null,
            "min_height": null,
            "min_width": null,
            "object_fit": null,
            "object_position": null,
            "order": null,
            "overflow": null,
            "overflow_x": null,
            "overflow_y": null,
            "padding": null,
            "right": null,
            "top": null,
            "visibility": null,
            "width": null
          }
        },
        "ac80fb433f9a402992d19ad46697e781": {
          "model_module": "@jupyter-widgets/controls",
          "model_name": "DescriptionStyleModel",
          "model_module_version": "1.5.0",
          "state": {
            "_model_module": "@jupyter-widgets/controls",
            "_model_module_version": "1.5.0",
            "_model_name": "DescriptionStyleModel",
            "_view_count": null,
            "_view_module": "@jupyter-widgets/base",
            "_view_module_version": "1.2.0",
            "_view_name": "StyleView",
            "description_width": ""
          }
        },
        "6517d1015f8f425cb10d0e7f7d1caae0": {
          "model_module": "@jupyter-widgets/controls",
          "model_name": "HBoxModel",
          "model_module_version": "1.5.0",
          "state": {
            "_dom_classes": [],
            "_model_module": "@jupyter-widgets/controls",
            "_model_module_version": "1.5.0",
            "_model_name": "HBoxModel",
            "_view_count": null,
            "_view_module": "@jupyter-widgets/controls",
            "_view_module_version": "1.5.0",
            "_view_name": "HBoxView",
            "box_style": "",
            "children": [
              "IPY_MODEL_445261c8d2e5499ca9f1d6de03b24762",
              "IPY_MODEL_e06ab9651d6a478d9ce52e28ce5798e9",
              "IPY_MODEL_f22aeba6600a463c847a9b52ccd09ded"
            ],
            "layout": "IPY_MODEL_7dd89e47110f409295250478efb49f20"
          }
        },
        "445261c8d2e5499ca9f1d6de03b24762": {
          "model_module": "@jupyter-widgets/controls",
          "model_name": "HTMLModel",
          "model_module_version": "1.5.0",
          "state": {
            "_dom_classes": [],
            "_model_module": "@jupyter-widgets/controls",
            "_model_module_version": "1.5.0",
            "_model_name": "HTMLModel",
            "_view_count": null,
            "_view_module": "@jupyter-widgets/controls",
            "_view_module_version": "1.5.0",
            "_view_name": "HTMLView",
            "description": "",
            "description_tooltip": null,
            "layout": "IPY_MODEL_64c53eee231846b7a82ac36c616b84d9",
            "placeholder": "​",
            "style": "IPY_MODEL_df77ec264f33409bbeaf7af50973e44f",
            "value": "Downloading (…)lve/main/config.json: 100%"
          }
        },
        "e06ab9651d6a478d9ce52e28ce5798e9": {
          "model_module": "@jupyter-widgets/controls",
          "model_name": "FloatProgressModel",
          "model_module_version": "1.5.0",
          "state": {
            "_dom_classes": [],
            "_model_module": "@jupyter-widgets/controls",
            "_model_module_version": "1.5.0",
            "_model_name": "FloatProgressModel",
            "_view_count": null,
            "_view_module": "@jupyter-widgets/controls",
            "_view_module_version": "1.5.0",
            "_view_name": "ProgressView",
            "bar_style": "success",
            "description": "",
            "description_tooltip": null,
            "layout": "IPY_MODEL_ac8c3d79c8f141cba7bf4b46e0d52242",
            "max": 568,
            "min": 0,
            "orientation": "horizontal",
            "style": "IPY_MODEL_e184d7eac97447729656dbdcfc1f06d6",
            "value": 568
          }
        },
        "f22aeba6600a463c847a9b52ccd09ded": {
          "model_module": "@jupyter-widgets/controls",
          "model_name": "HTMLModel",
          "model_module_version": "1.5.0",
          "state": {
            "_dom_classes": [],
            "_model_module": "@jupyter-widgets/controls",
            "_model_module_version": "1.5.0",
            "_model_name": "HTMLModel",
            "_view_count": null,
            "_view_module": "@jupyter-widgets/controls",
            "_view_module_version": "1.5.0",
            "_view_name": "HTMLView",
            "description": "",
            "description_tooltip": null,
            "layout": "IPY_MODEL_3fc9652ef955428481a91b282f61ead2",
            "placeholder": "​",
            "style": "IPY_MODEL_95638c4a34fb4929b5dddb2c589f9476",
            "value": " 568/568 [00:00&lt;00:00, 6.29kB/s]"
          }
        },
        "7dd89e47110f409295250478efb49f20": {
          "model_module": "@jupyter-widgets/base",
          "model_name": "LayoutModel",
          "model_module_version": "1.2.0",
          "state": {
            "_model_module": "@jupyter-widgets/base",
            "_model_module_version": "1.2.0",
            "_model_name": "LayoutModel",
            "_view_count": null,
            "_view_module": "@jupyter-widgets/base",
            "_view_module_version": "1.2.0",
            "_view_name": "LayoutView",
            "align_content": null,
            "align_items": null,
            "align_self": null,
            "border": null,
            "bottom": null,
            "display": null,
            "flex": null,
            "flex_flow": null,
            "grid_area": null,
            "grid_auto_columns": null,
            "grid_auto_flow": null,
            "grid_auto_rows": null,
            "grid_column": null,
            "grid_gap": null,
            "grid_row": null,
            "grid_template_areas": null,
            "grid_template_columns": null,
            "grid_template_rows": null,
            "height": null,
            "justify_content": null,
            "justify_items": null,
            "left": null,
            "margin": null,
            "max_height": null,
            "max_width": null,
            "min_height": null,
            "min_width": null,
            "object_fit": null,
            "object_position": null,
            "order": null,
            "overflow": null,
            "overflow_x": null,
            "overflow_y": null,
            "padding": null,
            "right": null,
            "top": null,
            "visibility": null,
            "width": null
          }
        },
        "64c53eee231846b7a82ac36c616b84d9": {
          "model_module": "@jupyter-widgets/base",
          "model_name": "LayoutModel",
          "model_module_version": "1.2.0",
          "state": {
            "_model_module": "@jupyter-widgets/base",
            "_model_module_version": "1.2.0",
            "_model_name": "LayoutModel",
            "_view_count": null,
            "_view_module": "@jupyter-widgets/base",
            "_view_module_version": "1.2.0",
            "_view_name": "LayoutView",
            "align_content": null,
            "align_items": null,
            "align_self": null,
            "border": null,
            "bottom": null,
            "display": null,
            "flex": null,
            "flex_flow": null,
            "grid_area": null,
            "grid_auto_columns": null,
            "grid_auto_flow": null,
            "grid_auto_rows": null,
            "grid_column": null,
            "grid_gap": null,
            "grid_row": null,
            "grid_template_areas": null,
            "grid_template_columns": null,
            "grid_template_rows": null,
            "height": null,
            "justify_content": null,
            "justify_items": null,
            "left": null,
            "margin": null,
            "max_height": null,
            "max_width": null,
            "min_height": null,
            "min_width": null,
            "object_fit": null,
            "object_position": null,
            "order": null,
            "overflow": null,
            "overflow_x": null,
            "overflow_y": null,
            "padding": null,
            "right": null,
            "top": null,
            "visibility": null,
            "width": null
          }
        },
        "df77ec264f33409bbeaf7af50973e44f": {
          "model_module": "@jupyter-widgets/controls",
          "model_name": "DescriptionStyleModel",
          "model_module_version": "1.5.0",
          "state": {
            "_model_module": "@jupyter-widgets/controls",
            "_model_module_version": "1.5.0",
            "_model_name": "DescriptionStyleModel",
            "_view_count": null,
            "_view_module": "@jupyter-widgets/base",
            "_view_module_version": "1.2.0",
            "_view_name": "StyleView",
            "description_width": ""
          }
        },
        "ac8c3d79c8f141cba7bf4b46e0d52242": {
          "model_module": "@jupyter-widgets/base",
          "model_name": "LayoutModel",
          "model_module_version": "1.2.0",
          "state": {
            "_model_module": "@jupyter-widgets/base",
            "_model_module_version": "1.2.0",
            "_model_name": "LayoutModel",
            "_view_count": null,
            "_view_module": "@jupyter-widgets/base",
            "_view_module_version": "1.2.0",
            "_view_name": "LayoutView",
            "align_content": null,
            "align_items": null,
            "align_self": null,
            "border": null,
            "bottom": null,
            "display": null,
            "flex": null,
            "flex_flow": null,
            "grid_area": null,
            "grid_auto_columns": null,
            "grid_auto_flow": null,
            "grid_auto_rows": null,
            "grid_column": null,
            "grid_gap": null,
            "grid_row": null,
            "grid_template_areas": null,
            "grid_template_columns": null,
            "grid_template_rows": null,
            "height": null,
            "justify_content": null,
            "justify_items": null,
            "left": null,
            "margin": null,
            "max_height": null,
            "max_width": null,
            "min_height": null,
            "min_width": null,
            "object_fit": null,
            "object_position": null,
            "order": null,
            "overflow": null,
            "overflow_x": null,
            "overflow_y": null,
            "padding": null,
            "right": null,
            "top": null,
            "visibility": null,
            "width": null
          }
        },
        "e184d7eac97447729656dbdcfc1f06d6": {
          "model_module": "@jupyter-widgets/controls",
          "model_name": "ProgressStyleModel",
          "model_module_version": "1.5.0",
          "state": {
            "_model_module": "@jupyter-widgets/controls",
            "_model_module_version": "1.5.0",
            "_model_name": "ProgressStyleModel",
            "_view_count": null,
            "_view_module": "@jupyter-widgets/base",
            "_view_module_version": "1.2.0",
            "_view_name": "StyleView",
            "bar_color": null,
            "description_width": ""
          }
        },
        "3fc9652ef955428481a91b282f61ead2": {
          "model_module": "@jupyter-widgets/base",
          "model_name": "LayoutModel",
          "model_module_version": "1.2.0",
          "state": {
            "_model_module": "@jupyter-widgets/base",
            "_model_module_version": "1.2.0",
            "_model_name": "LayoutModel",
            "_view_count": null,
            "_view_module": "@jupyter-widgets/base",
            "_view_module_version": "1.2.0",
            "_view_name": "LayoutView",
            "align_content": null,
            "align_items": null,
            "align_self": null,
            "border": null,
            "bottom": null,
            "display": null,
            "flex": null,
            "flex_flow": null,
            "grid_area": null,
            "grid_auto_columns": null,
            "grid_auto_flow": null,
            "grid_auto_rows": null,
            "grid_column": null,
            "grid_gap": null,
            "grid_row": null,
            "grid_template_areas": null,
            "grid_template_columns": null,
            "grid_template_rows": null,
            "height": null,
            "justify_content": null,
            "justify_items": null,
            "left": null,
            "margin": null,
            "max_height": null,
            "max_width": null,
            "min_height": null,
            "min_width": null,
            "object_fit": null,
            "object_position": null,
            "order": null,
            "overflow": null,
            "overflow_x": null,
            "overflow_y": null,
            "padding": null,
            "right": null,
            "top": null,
            "visibility": null,
            "width": null
          }
        },
        "95638c4a34fb4929b5dddb2c589f9476": {
          "model_module": "@jupyter-widgets/controls",
          "model_name": "DescriptionStyleModel",
          "model_module_version": "1.5.0",
          "state": {
            "_model_module": "@jupyter-widgets/controls",
            "_model_module_version": "1.5.0",
            "_model_name": "DescriptionStyleModel",
            "_view_count": null,
            "_view_module": "@jupyter-widgets/base",
            "_view_module_version": "1.2.0",
            "_view_name": "StyleView",
            "description_width": ""
          }
        },
        "0b7a6b7639d74af781ddea05a9e463bf": {
          "model_module": "@jupyter-widgets/controls",
          "model_name": "HBoxModel",
          "model_module_version": "1.5.0",
          "state": {
            "_dom_classes": [],
            "_model_module": "@jupyter-widgets/controls",
            "_model_module_version": "1.5.0",
            "_model_name": "HBoxModel",
            "_view_count": null,
            "_view_module": "@jupyter-widgets/controls",
            "_view_module_version": "1.5.0",
            "_view_name": "HBoxView",
            "box_style": "",
            "children": [
              "IPY_MODEL_b7ac4cca230345268892510af07e9d1a",
              "IPY_MODEL_21e0f3a72eaa4bf5849c8874db3d6a8a",
              "IPY_MODEL_f7709a9a7ed94703ba676d1d6aeae1a7"
            ],
            "layout": "IPY_MODEL_15c20b0ae04c4527b41305540d2d113f"
          }
        },
        "b7ac4cca230345268892510af07e9d1a": {
          "model_module": "@jupyter-widgets/controls",
          "model_name": "HTMLModel",
          "model_module_version": "1.5.0",
          "state": {
            "_dom_classes": [],
            "_model_module": "@jupyter-widgets/controls",
            "_model_module_version": "1.5.0",
            "_model_name": "HTMLModel",
            "_view_count": null,
            "_view_module": "@jupyter-widgets/controls",
            "_view_module_version": "1.5.0",
            "_view_name": "HTMLView",
            "description": "",
            "description_tooltip": null,
            "layout": "IPY_MODEL_231ba07aa08f4a42b0c2056e7e5713f0",
            "placeholder": "​",
            "style": "IPY_MODEL_47b4759f144246668ce4dbef3792c9e1",
            "value": "Downloading (…)solve/main/vocab.txt: 100%"
          }
        },
        "21e0f3a72eaa4bf5849c8874db3d6a8a": {
          "model_module": "@jupyter-widgets/controls",
          "model_name": "FloatProgressModel",
          "model_module_version": "1.5.0",
          "state": {
            "_dom_classes": [],
            "_model_module": "@jupyter-widgets/controls",
            "_model_module_version": "1.5.0",
            "_model_name": "FloatProgressModel",
            "_view_count": null,
            "_view_module": "@jupyter-widgets/controls",
            "_view_module_version": "1.5.0",
            "_view_name": "ProgressView",
            "bar_style": "success",
            "description": "",
            "description_tooltip": null,
            "layout": "IPY_MODEL_b6570dc3c3bd422ab7ecd2b4bc9dc612",
            "max": 221438,
            "min": 0,
            "orientation": "horizontal",
            "style": "IPY_MODEL_7f9699e0ba1d4a1f9b5784ddc6f966f7",
            "value": 221438
          }
        },
        "f7709a9a7ed94703ba676d1d6aeae1a7": {
          "model_module": "@jupyter-widgets/controls",
          "model_name": "HTMLModel",
          "model_module_version": "1.5.0",
          "state": {
            "_dom_classes": [],
            "_model_module": "@jupyter-widgets/controls",
            "_model_module_version": "1.5.0",
            "_model_name": "HTMLModel",
            "_view_count": null,
            "_view_module": "@jupyter-widgets/controls",
            "_view_module_version": "1.5.0",
            "_view_name": "HTMLView",
            "description": "",
            "description_tooltip": null,
            "layout": "IPY_MODEL_c50df416686d4f839789db3cc640e4a7",
            "placeholder": "​",
            "style": "IPY_MODEL_72e4a75b9c564fd286c91a47c01ddeec",
            "value": " 221k/221k [00:00&lt;00:00, 3.43MB/s]"
          }
        },
        "15c20b0ae04c4527b41305540d2d113f": {
          "model_module": "@jupyter-widgets/base",
          "model_name": "LayoutModel",
          "model_module_version": "1.2.0",
          "state": {
            "_model_module": "@jupyter-widgets/base",
            "_model_module_version": "1.2.0",
            "_model_name": "LayoutModel",
            "_view_count": null,
            "_view_module": "@jupyter-widgets/base",
            "_view_module_version": "1.2.0",
            "_view_name": "LayoutView",
            "align_content": null,
            "align_items": null,
            "align_self": null,
            "border": null,
            "bottom": null,
            "display": null,
            "flex": null,
            "flex_flow": null,
            "grid_area": null,
            "grid_auto_columns": null,
            "grid_auto_flow": null,
            "grid_auto_rows": null,
            "grid_column": null,
            "grid_gap": null,
            "grid_row": null,
            "grid_template_areas": null,
            "grid_template_columns": null,
            "grid_template_rows": null,
            "height": null,
            "justify_content": null,
            "justify_items": null,
            "left": null,
            "margin": null,
            "max_height": null,
            "max_width": null,
            "min_height": null,
            "min_width": null,
            "object_fit": null,
            "object_position": null,
            "order": null,
            "overflow": null,
            "overflow_x": null,
            "overflow_y": null,
            "padding": null,
            "right": null,
            "top": null,
            "visibility": null,
            "width": null
          }
        },
        "231ba07aa08f4a42b0c2056e7e5713f0": {
          "model_module": "@jupyter-widgets/base",
          "model_name": "LayoutModel",
          "model_module_version": "1.2.0",
          "state": {
            "_model_module": "@jupyter-widgets/base",
            "_model_module_version": "1.2.0",
            "_model_name": "LayoutModel",
            "_view_count": null,
            "_view_module": "@jupyter-widgets/base",
            "_view_module_version": "1.2.0",
            "_view_name": "LayoutView",
            "align_content": null,
            "align_items": null,
            "align_self": null,
            "border": null,
            "bottom": null,
            "display": null,
            "flex": null,
            "flex_flow": null,
            "grid_area": null,
            "grid_auto_columns": null,
            "grid_auto_flow": null,
            "grid_auto_rows": null,
            "grid_column": null,
            "grid_gap": null,
            "grid_row": null,
            "grid_template_areas": null,
            "grid_template_columns": null,
            "grid_template_rows": null,
            "height": null,
            "justify_content": null,
            "justify_items": null,
            "left": null,
            "margin": null,
            "max_height": null,
            "max_width": null,
            "min_height": null,
            "min_width": null,
            "object_fit": null,
            "object_position": null,
            "order": null,
            "overflow": null,
            "overflow_x": null,
            "overflow_y": null,
            "padding": null,
            "right": null,
            "top": null,
            "visibility": null,
            "width": null
          }
        },
        "47b4759f144246668ce4dbef3792c9e1": {
          "model_module": "@jupyter-widgets/controls",
          "model_name": "DescriptionStyleModel",
          "model_module_version": "1.5.0",
          "state": {
            "_model_module": "@jupyter-widgets/controls",
            "_model_module_version": "1.5.0",
            "_model_name": "DescriptionStyleModel",
            "_view_count": null,
            "_view_module": "@jupyter-widgets/base",
            "_view_module_version": "1.2.0",
            "_view_name": "StyleView",
            "description_width": ""
          }
        },
        "b6570dc3c3bd422ab7ecd2b4bc9dc612": {
          "model_module": "@jupyter-widgets/base",
          "model_name": "LayoutModel",
          "model_module_version": "1.2.0",
          "state": {
            "_model_module": "@jupyter-widgets/base",
            "_model_module_version": "1.2.0",
            "_model_name": "LayoutModel",
            "_view_count": null,
            "_view_module": "@jupyter-widgets/base",
            "_view_module_version": "1.2.0",
            "_view_name": "LayoutView",
            "align_content": null,
            "align_items": null,
            "align_self": null,
            "border": null,
            "bottom": null,
            "display": null,
            "flex": null,
            "flex_flow": null,
            "grid_area": null,
            "grid_auto_columns": null,
            "grid_auto_flow": null,
            "grid_auto_rows": null,
            "grid_column": null,
            "grid_gap": null,
            "grid_row": null,
            "grid_template_areas": null,
            "grid_template_columns": null,
            "grid_template_rows": null,
            "height": null,
            "justify_content": null,
            "justify_items": null,
            "left": null,
            "margin": null,
            "max_height": null,
            "max_width": null,
            "min_height": null,
            "min_width": null,
            "object_fit": null,
            "object_position": null,
            "order": null,
            "overflow": null,
            "overflow_x": null,
            "overflow_y": null,
            "padding": null,
            "right": null,
            "top": null,
            "visibility": null,
            "width": null
          }
        },
        "7f9699e0ba1d4a1f9b5784ddc6f966f7": {
          "model_module": "@jupyter-widgets/controls",
          "model_name": "ProgressStyleModel",
          "model_module_version": "1.5.0",
          "state": {
            "_model_module": "@jupyter-widgets/controls",
            "_model_module_version": "1.5.0",
            "_model_name": "ProgressStyleModel",
            "_view_count": null,
            "_view_module": "@jupyter-widgets/base",
            "_view_module_version": "1.2.0",
            "_view_name": "StyleView",
            "bar_color": null,
            "description_width": ""
          }
        },
        "c50df416686d4f839789db3cc640e4a7": {
          "model_module": "@jupyter-widgets/base",
          "model_name": "LayoutModel",
          "model_module_version": "1.2.0",
          "state": {
            "_model_module": "@jupyter-widgets/base",
            "_model_module_version": "1.2.0",
            "_model_name": "LayoutModel",
            "_view_count": null,
            "_view_module": "@jupyter-widgets/base",
            "_view_module_version": "1.2.0",
            "_view_name": "LayoutView",
            "align_content": null,
            "align_items": null,
            "align_self": null,
            "border": null,
            "bottom": null,
            "display": null,
            "flex": null,
            "flex_flow": null,
            "grid_area": null,
            "grid_auto_columns": null,
            "grid_auto_flow": null,
            "grid_auto_rows": null,
            "grid_column": null,
            "grid_gap": null,
            "grid_row": null,
            "grid_template_areas": null,
            "grid_template_columns": null,
            "grid_template_rows": null,
            "height": null,
            "justify_content": null,
            "justify_items": null,
            "left": null,
            "margin": null,
            "max_height": null,
            "max_width": null,
            "min_height": null,
            "min_width": null,
            "object_fit": null,
            "object_position": null,
            "order": null,
            "overflow": null,
            "overflow_x": null,
            "overflow_y": null,
            "padding": null,
            "right": null,
            "top": null,
            "visibility": null,
            "width": null
          }
        },
        "72e4a75b9c564fd286c91a47c01ddeec": {
          "model_module": "@jupyter-widgets/controls",
          "model_name": "DescriptionStyleModel",
          "model_module_version": "1.5.0",
          "state": {
            "_model_module": "@jupyter-widgets/controls",
            "_model_module_version": "1.5.0",
            "_model_name": "DescriptionStyleModel",
            "_view_count": null,
            "_view_module": "@jupyter-widgets/base",
            "_view_module_version": "1.2.0",
            "_view_name": "StyleView",
            "description_width": ""
          }
        },
        "d93292a75f14443b8ac0e4d90c7e80ba": {
          "model_module": "@jupyter-widgets/controls",
          "model_name": "HBoxModel",
          "model_module_version": "1.5.0",
          "state": {
            "_dom_classes": [],
            "_model_module": "@jupyter-widgets/controls",
            "_model_module_version": "1.5.0",
            "_model_name": "HBoxModel",
            "_view_count": null,
            "_view_module": "@jupyter-widgets/controls",
            "_view_module_version": "1.5.0",
            "_view_name": "HBoxView",
            "box_style": "",
            "children": [
              "IPY_MODEL_9a04330e05074011906360c69cf3aaba",
              "IPY_MODEL_ed9ed5b65c164313b15796bfee7fbc71",
              "IPY_MODEL_cec03975de394de8b514a82821654314"
            ],
            "layout": "IPY_MODEL_e6c8d10c758945d88c6789768c744afc"
          }
        },
        "9a04330e05074011906360c69cf3aaba": {
          "model_module": "@jupyter-widgets/controls",
          "model_name": "HTMLModel",
          "model_module_version": "1.5.0",
          "state": {
            "_dom_classes": [],
            "_model_module": "@jupyter-widgets/controls",
            "_model_module_version": "1.5.0",
            "_model_name": "HTMLModel",
            "_view_count": null,
            "_view_module": "@jupyter-widgets/controls",
            "_view_module_version": "1.5.0",
            "_view_name": "HTMLView",
            "description": "",
            "description_tooltip": null,
            "layout": "IPY_MODEL_7934ccc17fb24768a35998fc5f92d39f",
            "placeholder": "​",
            "style": "IPY_MODEL_1879bdedfb0e4eb6a00703d9a9cdaf1e",
            "value": "Downloading (…)cial_tokens_map.json: 100%"
          }
        },
        "ed9ed5b65c164313b15796bfee7fbc71": {
          "model_module": "@jupyter-widgets/controls",
          "model_name": "FloatProgressModel",
          "model_module_version": "1.5.0",
          "state": {
            "_dom_classes": [],
            "_model_module": "@jupyter-widgets/controls",
            "_model_module_version": "1.5.0",
            "_model_name": "FloatProgressModel",
            "_view_count": null,
            "_view_module": "@jupyter-widgets/controls",
            "_view_module_version": "1.5.0",
            "_view_name": "ProgressView",
            "bar_style": "success",
            "description": "",
            "description_tooltip": null,
            "layout": "IPY_MODEL_85331b76442641cd9ae5a0b818004c0c",
            "max": 112,
            "min": 0,
            "orientation": "horizontal",
            "style": "IPY_MODEL_8ad6a1ffb2d4463fbc5ed983ffb4a9dc",
            "value": 112
          }
        },
        "cec03975de394de8b514a82821654314": {
          "model_module": "@jupyter-widgets/controls",
          "model_name": "HTMLModel",
          "model_module_version": "1.5.0",
          "state": {
            "_dom_classes": [],
            "_model_module": "@jupyter-widgets/controls",
            "_model_module_version": "1.5.0",
            "_model_name": "HTMLModel",
            "_view_count": null,
            "_view_module": "@jupyter-widgets/controls",
            "_view_module_version": "1.5.0",
            "_view_name": "HTMLView",
            "description": "",
            "description_tooltip": null,
            "layout": "IPY_MODEL_fd49ff419cef4359a4114a0182d40e26",
            "placeholder": "​",
            "style": "IPY_MODEL_2c285ff91de24792a1120879cb91d4ae",
            "value": " 112/112 [00:00&lt;00:00, 2.09kB/s]"
          }
        },
        "e6c8d10c758945d88c6789768c744afc": {
          "model_module": "@jupyter-widgets/base",
          "model_name": "LayoutModel",
          "model_module_version": "1.2.0",
          "state": {
            "_model_module": "@jupyter-widgets/base",
            "_model_module_version": "1.2.0",
            "_model_name": "LayoutModel",
            "_view_count": null,
            "_view_module": "@jupyter-widgets/base",
            "_view_module_version": "1.2.0",
            "_view_name": "LayoutView",
            "align_content": null,
            "align_items": null,
            "align_self": null,
            "border": null,
            "bottom": null,
            "display": null,
            "flex": null,
            "flex_flow": null,
            "grid_area": null,
            "grid_auto_columns": null,
            "grid_auto_flow": null,
            "grid_auto_rows": null,
            "grid_column": null,
            "grid_gap": null,
            "grid_row": null,
            "grid_template_areas": null,
            "grid_template_columns": null,
            "grid_template_rows": null,
            "height": null,
            "justify_content": null,
            "justify_items": null,
            "left": null,
            "margin": null,
            "max_height": null,
            "max_width": null,
            "min_height": null,
            "min_width": null,
            "object_fit": null,
            "object_position": null,
            "order": null,
            "overflow": null,
            "overflow_x": null,
            "overflow_y": null,
            "padding": null,
            "right": null,
            "top": null,
            "visibility": null,
            "width": null
          }
        },
        "7934ccc17fb24768a35998fc5f92d39f": {
          "model_module": "@jupyter-widgets/base",
          "model_name": "LayoutModel",
          "model_module_version": "1.2.0",
          "state": {
            "_model_module": "@jupyter-widgets/base",
            "_model_module_version": "1.2.0",
            "_model_name": "LayoutModel",
            "_view_count": null,
            "_view_module": "@jupyter-widgets/base",
            "_view_module_version": "1.2.0",
            "_view_name": "LayoutView",
            "align_content": null,
            "align_items": null,
            "align_self": null,
            "border": null,
            "bottom": null,
            "display": null,
            "flex": null,
            "flex_flow": null,
            "grid_area": null,
            "grid_auto_columns": null,
            "grid_auto_flow": null,
            "grid_auto_rows": null,
            "grid_column": null,
            "grid_gap": null,
            "grid_row": null,
            "grid_template_areas": null,
            "grid_template_columns": null,
            "grid_template_rows": null,
            "height": null,
            "justify_content": null,
            "justify_items": null,
            "left": null,
            "margin": null,
            "max_height": null,
            "max_width": null,
            "min_height": null,
            "min_width": null,
            "object_fit": null,
            "object_position": null,
            "order": null,
            "overflow": null,
            "overflow_x": null,
            "overflow_y": null,
            "padding": null,
            "right": null,
            "top": null,
            "visibility": null,
            "width": null
          }
        },
        "1879bdedfb0e4eb6a00703d9a9cdaf1e": {
          "model_module": "@jupyter-widgets/controls",
          "model_name": "DescriptionStyleModel",
          "model_module_version": "1.5.0",
          "state": {
            "_model_module": "@jupyter-widgets/controls",
            "_model_module_version": "1.5.0",
            "_model_name": "DescriptionStyleModel",
            "_view_count": null,
            "_view_module": "@jupyter-widgets/base",
            "_view_module_version": "1.2.0",
            "_view_name": "StyleView",
            "description_width": ""
          }
        },
        "85331b76442641cd9ae5a0b818004c0c": {
          "model_module": "@jupyter-widgets/base",
          "model_name": "LayoutModel",
          "model_module_version": "1.2.0",
          "state": {
            "_model_module": "@jupyter-widgets/base",
            "_model_module_version": "1.2.0",
            "_model_name": "LayoutModel",
            "_view_count": null,
            "_view_module": "@jupyter-widgets/base",
            "_view_module_version": "1.2.0",
            "_view_name": "LayoutView",
            "align_content": null,
            "align_items": null,
            "align_self": null,
            "border": null,
            "bottom": null,
            "display": null,
            "flex": null,
            "flex_flow": null,
            "grid_area": null,
            "grid_auto_columns": null,
            "grid_auto_flow": null,
            "grid_auto_rows": null,
            "grid_column": null,
            "grid_gap": null,
            "grid_row": null,
            "grid_template_areas": null,
            "grid_template_columns": null,
            "grid_template_rows": null,
            "height": null,
            "justify_content": null,
            "justify_items": null,
            "left": null,
            "margin": null,
            "max_height": null,
            "max_width": null,
            "min_height": null,
            "min_width": null,
            "object_fit": null,
            "object_position": null,
            "order": null,
            "overflow": null,
            "overflow_x": null,
            "overflow_y": null,
            "padding": null,
            "right": null,
            "top": null,
            "visibility": null,
            "width": null
          }
        },
        "8ad6a1ffb2d4463fbc5ed983ffb4a9dc": {
          "model_module": "@jupyter-widgets/controls",
          "model_name": "ProgressStyleModel",
          "model_module_version": "1.5.0",
          "state": {
            "_model_module": "@jupyter-widgets/controls",
            "_model_module_version": "1.5.0",
            "_model_name": "ProgressStyleModel",
            "_view_count": null,
            "_view_module": "@jupyter-widgets/base",
            "_view_module_version": "1.2.0",
            "_view_name": "StyleView",
            "bar_color": null,
            "description_width": ""
          }
        },
        "fd49ff419cef4359a4114a0182d40e26": {
          "model_module": "@jupyter-widgets/base",
          "model_name": "LayoutModel",
          "model_module_version": "1.2.0",
          "state": {
            "_model_module": "@jupyter-widgets/base",
            "_model_module_version": "1.2.0",
            "_model_name": "LayoutModel",
            "_view_count": null,
            "_view_module": "@jupyter-widgets/base",
            "_view_module_version": "1.2.0",
            "_view_name": "LayoutView",
            "align_content": null,
            "align_items": null,
            "align_self": null,
            "border": null,
            "bottom": null,
            "display": null,
            "flex": null,
            "flex_flow": null,
            "grid_area": null,
            "grid_auto_columns": null,
            "grid_auto_flow": null,
            "grid_auto_rows": null,
            "grid_column": null,
            "grid_gap": null,
            "grid_row": null,
            "grid_template_areas": null,
            "grid_template_columns": null,
            "grid_template_rows": null,
            "height": null,
            "justify_content": null,
            "justify_items": null,
            "left": null,
            "margin": null,
            "max_height": null,
            "max_width": null,
            "min_height": null,
            "min_width": null,
            "object_fit": null,
            "object_position": null,
            "order": null,
            "overflow": null,
            "overflow_x": null,
            "overflow_y": null,
            "padding": null,
            "right": null,
            "top": null,
            "visibility": null,
            "width": null
          }
        },
        "2c285ff91de24792a1120879cb91d4ae": {
          "model_module": "@jupyter-widgets/controls",
          "model_name": "DescriptionStyleModel",
          "model_module_version": "1.5.0",
          "state": {
            "_model_module": "@jupyter-widgets/controls",
            "_model_module_version": "1.5.0",
            "_model_name": "DescriptionStyleModel",
            "_view_count": null,
            "_view_module": "@jupyter-widgets/base",
            "_view_module_version": "1.2.0",
            "_view_name": "StyleView",
            "description_width": ""
          }
        },
        "89010ac2e08e467688a670e3caaf84d3": {
          "model_module": "@jupyter-widgets/controls",
          "model_name": "HBoxModel",
          "model_module_version": "1.5.0",
          "state": {
            "_dom_classes": [],
            "_model_module": "@jupyter-widgets/controls",
            "_model_module_version": "1.5.0",
            "_model_name": "HBoxModel",
            "_view_count": null,
            "_view_module": "@jupyter-widgets/controls",
            "_view_module_version": "1.5.0",
            "_view_name": "HBoxView",
            "box_style": "",
            "children": [
              "IPY_MODEL_3d2dce4086aa40d186fa8724e15873d3",
              "IPY_MODEL_0cb51241bfe449d390f8ca5ee5c78c69",
              "IPY_MODEL_1155ebe5c80b4ae7b2c6a1b1fb4575b4"
            ],
            "layout": "IPY_MODEL_7491885364b4490daef240050c7c4c40"
          }
        },
        "3d2dce4086aa40d186fa8724e15873d3": {
          "model_module": "@jupyter-widgets/controls",
          "model_name": "HTMLModel",
          "model_module_version": "1.5.0",
          "state": {
            "_dom_classes": [],
            "_model_module": "@jupyter-widgets/controls",
            "_model_module_version": "1.5.0",
            "_model_name": "HTMLModel",
            "_view_count": null,
            "_view_module": "@jupyter-widgets/controls",
            "_view_module_version": "1.5.0",
            "_view_name": "HTMLView",
            "description": "",
            "description_tooltip": null,
            "layout": "IPY_MODEL_f09486f3ae504cdf9b8155abeffd493c",
            "placeholder": "​",
            "style": "IPY_MODEL_aab7865c90984c188fe3f54f656c92d2",
            "value": "Downloading pytorch_model.bin: 100%"
          }
        },
        "0cb51241bfe449d390f8ca5ee5c78c69": {
          "model_module": "@jupyter-widgets/controls",
          "model_name": "FloatProgressModel",
          "model_module_version": "1.5.0",
          "state": {
            "_dom_classes": [],
            "_model_module": "@jupyter-widgets/controls",
            "_model_module_version": "1.5.0",
            "_model_name": "FloatProgressModel",
            "_view_count": null,
            "_view_module": "@jupyter-widgets/controls",
            "_view_module_version": "1.5.0",
            "_view_name": "ProgressView",
            "bar_style": "success",
            "description": "",
            "description_tooltip": null,
            "layout": "IPY_MODEL_30f5cd8968a349dc8ef2a0e48de3e071",
            "max": 438908790,
            "min": 0,
            "orientation": "horizontal",
            "style": "IPY_MODEL_47633bd831f44b3688732c6412f269b3",
            "value": 438908790
          }
        },
        "1155ebe5c80b4ae7b2c6a1b1fb4575b4": {
          "model_module": "@jupyter-widgets/controls",
          "model_name": "HTMLModel",
          "model_module_version": "1.5.0",
          "state": {
            "_dom_classes": [],
            "_model_module": "@jupyter-widgets/controls",
            "_model_module_version": "1.5.0",
            "_model_name": "HTMLModel",
            "_view_count": null,
            "_view_module": "@jupyter-widgets/controls",
            "_view_module_version": "1.5.0",
            "_view_name": "HTMLView",
            "description": "",
            "description_tooltip": null,
            "layout": "IPY_MODEL_bd6fe017a977415792c570660fbe4cf4",
            "placeholder": "​",
            "style": "IPY_MODEL_ae7b3ab9cb6240bca9cdcaf8fafdd07a",
            "value": " 439M/439M [00:04&lt;00:00, 73.0MB/s]"
          }
        },
        "7491885364b4490daef240050c7c4c40": {
          "model_module": "@jupyter-widgets/base",
          "model_name": "LayoutModel",
          "model_module_version": "1.2.0",
          "state": {
            "_model_module": "@jupyter-widgets/base",
            "_model_module_version": "1.2.0",
            "_model_name": "LayoutModel",
            "_view_count": null,
            "_view_module": "@jupyter-widgets/base",
            "_view_module_version": "1.2.0",
            "_view_name": "LayoutView",
            "align_content": null,
            "align_items": null,
            "align_self": null,
            "border": null,
            "bottom": null,
            "display": null,
            "flex": null,
            "flex_flow": null,
            "grid_area": null,
            "grid_auto_columns": null,
            "grid_auto_flow": null,
            "grid_auto_rows": null,
            "grid_column": null,
            "grid_gap": null,
            "grid_row": null,
            "grid_template_areas": null,
            "grid_template_columns": null,
            "grid_template_rows": null,
            "height": null,
            "justify_content": null,
            "justify_items": null,
            "left": null,
            "margin": null,
            "max_height": null,
            "max_width": null,
            "min_height": null,
            "min_width": null,
            "object_fit": null,
            "object_position": null,
            "order": null,
            "overflow": null,
            "overflow_x": null,
            "overflow_y": null,
            "padding": null,
            "right": null,
            "top": null,
            "visibility": null,
            "width": null
          }
        },
        "f09486f3ae504cdf9b8155abeffd493c": {
          "model_module": "@jupyter-widgets/base",
          "model_name": "LayoutModel",
          "model_module_version": "1.2.0",
          "state": {
            "_model_module": "@jupyter-widgets/base",
            "_model_module_version": "1.2.0",
            "_model_name": "LayoutModel",
            "_view_count": null,
            "_view_module": "@jupyter-widgets/base",
            "_view_module_version": "1.2.0",
            "_view_name": "LayoutView",
            "align_content": null,
            "align_items": null,
            "align_self": null,
            "border": null,
            "bottom": null,
            "display": null,
            "flex": null,
            "flex_flow": null,
            "grid_area": null,
            "grid_auto_columns": null,
            "grid_auto_flow": null,
            "grid_auto_rows": null,
            "grid_column": null,
            "grid_gap": null,
            "grid_row": null,
            "grid_template_areas": null,
            "grid_template_columns": null,
            "grid_template_rows": null,
            "height": null,
            "justify_content": null,
            "justify_items": null,
            "left": null,
            "margin": null,
            "max_height": null,
            "max_width": null,
            "min_height": null,
            "min_width": null,
            "object_fit": null,
            "object_position": null,
            "order": null,
            "overflow": null,
            "overflow_x": null,
            "overflow_y": null,
            "padding": null,
            "right": null,
            "top": null,
            "visibility": null,
            "width": null
          }
        },
        "aab7865c90984c188fe3f54f656c92d2": {
          "model_module": "@jupyter-widgets/controls",
          "model_name": "DescriptionStyleModel",
          "model_module_version": "1.5.0",
          "state": {
            "_model_module": "@jupyter-widgets/controls",
            "_model_module_version": "1.5.0",
            "_model_name": "DescriptionStyleModel",
            "_view_count": null,
            "_view_module": "@jupyter-widgets/base",
            "_view_module_version": "1.2.0",
            "_view_name": "StyleView",
            "description_width": ""
          }
        },
        "30f5cd8968a349dc8ef2a0e48de3e071": {
          "model_module": "@jupyter-widgets/base",
          "model_name": "LayoutModel",
          "model_module_version": "1.2.0",
          "state": {
            "_model_module": "@jupyter-widgets/base",
            "_model_module_version": "1.2.0",
            "_model_name": "LayoutModel",
            "_view_count": null,
            "_view_module": "@jupyter-widgets/base",
            "_view_module_version": "1.2.0",
            "_view_name": "LayoutView",
            "align_content": null,
            "align_items": null,
            "align_self": null,
            "border": null,
            "bottom": null,
            "display": null,
            "flex": null,
            "flex_flow": null,
            "grid_area": null,
            "grid_auto_columns": null,
            "grid_auto_flow": null,
            "grid_auto_rows": null,
            "grid_column": null,
            "grid_gap": null,
            "grid_row": null,
            "grid_template_areas": null,
            "grid_template_columns": null,
            "grid_template_rows": null,
            "height": null,
            "justify_content": null,
            "justify_items": null,
            "left": null,
            "margin": null,
            "max_height": null,
            "max_width": null,
            "min_height": null,
            "min_width": null,
            "object_fit": null,
            "object_position": null,
            "order": null,
            "overflow": null,
            "overflow_x": null,
            "overflow_y": null,
            "padding": null,
            "right": null,
            "top": null,
            "visibility": null,
            "width": null
          }
        },
        "47633bd831f44b3688732c6412f269b3": {
          "model_module": "@jupyter-widgets/controls",
          "model_name": "ProgressStyleModel",
          "model_module_version": "1.5.0",
          "state": {
            "_model_module": "@jupyter-widgets/controls",
            "_model_module_version": "1.5.0",
            "_model_name": "ProgressStyleModel",
            "_view_count": null,
            "_view_module": "@jupyter-widgets/base",
            "_view_module_version": "1.2.0",
            "_view_name": "StyleView",
            "bar_color": null,
            "description_width": ""
          }
        },
        "bd6fe017a977415792c570660fbe4cf4": {
          "model_module": "@jupyter-widgets/base",
          "model_name": "LayoutModel",
          "model_module_version": "1.2.0",
          "state": {
            "_model_module": "@jupyter-widgets/base",
            "_model_module_version": "1.2.0",
            "_model_name": "LayoutModel",
            "_view_count": null,
            "_view_module": "@jupyter-widgets/base",
            "_view_module_version": "1.2.0",
            "_view_name": "LayoutView",
            "align_content": null,
            "align_items": null,
            "align_self": null,
            "border": null,
            "bottom": null,
            "display": null,
            "flex": null,
            "flex_flow": null,
            "grid_area": null,
            "grid_auto_columns": null,
            "grid_auto_flow": null,
            "grid_auto_rows": null,
            "grid_column": null,
            "grid_gap": null,
            "grid_row": null,
            "grid_template_areas": null,
            "grid_template_columns": null,
            "grid_template_rows": null,
            "height": null,
            "justify_content": null,
            "justify_items": null,
            "left": null,
            "margin": null,
            "max_height": null,
            "max_width": null,
            "min_height": null,
            "min_width": null,
            "object_fit": null,
            "object_position": null,
            "order": null,
            "overflow": null,
            "overflow_x": null,
            "overflow_y": null,
            "padding": null,
            "right": null,
            "top": null,
            "visibility": null,
            "width": null
          }
        },
        "ae7b3ab9cb6240bca9cdcaf8fafdd07a": {
          "model_module": "@jupyter-widgets/controls",
          "model_name": "DescriptionStyleModel",
          "model_module_version": "1.5.0",
          "state": {
            "_model_module": "@jupyter-widgets/controls",
            "_model_module_version": "1.5.0",
            "_model_name": "DescriptionStyleModel",
            "_view_count": null,
            "_view_module": "@jupyter-widgets/base",
            "_view_module_version": "1.2.0",
            "_view_name": "StyleView",
            "description_width": ""
          }
        }
      }
    }
  },
  "cells": [
    {
      "cell_type": "code",
      "execution_count": null,
      "metadata": {
        "id": "9JEdnEryNACj"
      },
      "outputs": [],
      "source": [
        "PATH = 'drive/MyDrive/datasets/Refind_KDF@SIGIR2023_data/public_dat/'"
      ]
    },
    {
      "cell_type": "code",
      "source": [
        "import pandas as pd"
      ],
      "metadata": {
        "id": "UibyrEJ47wnT"
      },
      "execution_count": null,
      "outputs": []
    },
    {
      "cell_type": "code",
      "source": [
        "from sklearn.neural_network import MLPClassifier"
      ],
      "metadata": {
        "id": "oSOfGeRYEuQF"
      },
      "execution_count": null,
      "outputs": []
    },
    {
      "cell_type": "code",
      "source": [
        "from sklearn.metrics import precision_score\n",
        "from sklearn.metrics import recall_score\n",
        "from sklearn.metrics import f1_score"
      ],
      "metadata": {
        "id": "n2X9jMp5J-bK"
      },
      "execution_count": null,
      "outputs": []
    },
    {
      "cell_type": "code",
      "source": [
        "from google.colab import drive\n",
        "drive.mount('/content/drive')"
      ],
      "metadata": {
        "colab": {
          "base_uri": "https://localhost:8080/"
        },
        "id": "WKwLNJrqtdYp",
        "outputId": "6a252124-cf89-4c79-fb1c-cec946df0ce1"
      },
      "execution_count": null,
      "outputs": [
        {
          "output_type": "stream",
          "name": "stdout",
          "text": [
            "Mounted at /content/drive\n"
          ]
        }
      ]
    },
    {
      "cell_type": "markdown",
      "source": [
        "# Embedding Creation"
      ],
      "metadata": {
        "id": "pqqHh-I3s9Ts"
      }
    },
    {
      "cell_type": "code",
      "source": [
        "!pip install -q transformers sentence_transformers"
      ],
      "metadata": {
        "id": "Rl5UFkI-tPjf"
      },
      "execution_count": null,
      "outputs": []
    },
    {
      "cell_type": "code",
      "source": [
        "from transformers import AutoTokenizer\n",
        "import torch\n",
        "from transformers import BertTokenizer\n",
        "from transformers import BertModel"
      ],
      "metadata": {
        "id": "zq9xAcTsD-HN"
      },
      "execution_count": null,
      "outputs": []
    },
    {
      "cell_type": "code",
      "source": [
        "from collections import Counter"
      ],
      "metadata": {
        "id": "butMTq5UMo-Z"
      },
      "execution_count": null,
      "outputs": []
    },
    {
      "cell_type": "code",
      "source": [
        "from torch.utils.data import DataLoader\n",
        "import math\n",
        "# from sentence_transformers import LoggingHandler, util\n",
        "# from sentence_transformers.cross_encoder import CrossEncoder\n",
        "# from sentence_transformers.cross_encoder.evaluation import CESoftmaxAccuracyEvaluator\n",
        "# from sentence_transformers.readers import InputExample\n",
        "# import logging\n",
        "from datetime import datetime\n",
        "import os\n",
        "import gzip\n",
        "import csv"
      ],
      "metadata": {
        "id": "40_3de8r3WUx"
      },
      "execution_count": null,
      "outputs": []
    },
    {
      "cell_type": "code",
      "source": [
        "train = pd.read_excel(PATH + 'train.xlsx')\n",
        "train.head()"
      ],
      "metadata": {
        "colab": {
          "base_uri": "https://localhost:8080/",
          "height": 686
        },
        "id": "OD61BvOD61eM",
        "outputId": "e5469ab5-1827-4db9-e3ae-893416c9083b"
      },
      "execution_count": null,
      "outputs": [
        {
          "output_type": "execute_result",
          "data": {
            "text/plain": [
              "                                                  id      docid     relation  \\\n",
              "0                                                NaN  2016/2017  no_relation   \n",
              "1                                                NaN  2016/2017  no_relation   \n",
              "2  BERTPretrain_10KReports/2017/QTR2/20170518_10-...  2016/2017  no_relation   \n",
              "3                                                NaN  2016/2017  no_relation   \n",
              "4                                                NaN  2016/2017  no_relation   \n",
              "\n",
              "  rel_group                                              token  e1_start  \\\n",
              "0   ORG-ORG  ['warrants', 'to', 'purchase', 'Lumos', 'Netwo...         3   \n",
              "1   ORG-ORG  ['warrants', 'to', 'purchase', 'Lumos', 'Netwo...         9   \n",
              "2   ORG-ORG  ['turn', 'over', 'to', 'Global', 'Gold', 'at',...       115   \n",
              "3   ORG-ORG  ['ts', 'Eighteen', 'of', 'FelCor', 'Lodging', ...        21   \n",
              "4   ORG-ORG  ['the', 'WFOE', 'will', 'waive', 'and', 'relea...        21   \n",
              "\n",
              "   e1_end  e2_start  e2_end e1_type e2_type  \\\n",
              "0       6         9      12     ORG     ORG   \n",
              "1      12         3       6     ORG     ORG   \n",
              "2     117        95      96     ORG     ORG   \n",
              "3      24        15      17     ORG     ORG   \n",
              "4      29         1       2     ORG     ORG   \n",
              "\n",
              "                                           spacy_pos  \\\n",
              "0  ['NNS', 'TO', 'VB', 'NNP', 'NNP', 'NNP', 'JJ',...   \n",
              "1  ['NNS', 'TO', 'VB', 'NNP', 'NNP', 'NNP', 'JJ',...   \n",
              "2  ['NN', 'RP', 'IN', 'NNP', 'NNP', 'IN', 'PRP$',...   \n",
              "3  ['NNP', 'CD', 'IN', 'NNP', 'NNP', 'NNP', 'NNP'...   \n",
              "4  ['DT', 'NNP', 'MD', 'VB', 'CC', 'VB', 'PRP', '...   \n",
              "\n",
              "                                           spacy_ner  \\\n",
              "0  ['O', 'O', 'O', 'ORG', 'ORG', 'ORG', 'O', 'O',...   \n",
              "1  ['O', 'O', 'O', 'ORG', 'ORG', 'ORG', 'O', 'O',...   \n",
              "2  ['O', 'O', 'O', 'O', 'O', 'O', 'O', 'O', 'O', ...   \n",
              "3  ['O', 'O', 'O', 'O', 'O', 'O', 'O', 'O', 'O', ...   \n",
              "4  ['O', 'ORG', 'O', 'O', 'O', 'O', 'O', 'O', 'O'...   \n",
              "\n",
              "                                          spacy_head  \\\n",
              "0       [0, 2, 0, 5, 5, 7, 7, 2, 7, 11, 11, 7, 0, 0]   \n",
              "1       [0, 2, 0, 5, 5, 7, 7, 2, 7, 11, 11, 7, 0, 0]   \n",
              "2  [0, 0, 0, 4, 2, 4, 7, 5, 7, 8, 9, 12, 9, 0, 19...   \n",
              "3  [8, 8, 1, 7, 7, 7, 7, 2, 8, 8, 13, 10, 10, 9, ...   \n",
              "4  [1, 3, 3, 3, 3, 3, 5, 5, 5, 10, 8, 10, 11, 12,...   \n",
              "\n",
              "                                        spacy_deprel  \\\n",
              "0  ['ROOT', 'aux', 'acl', 'nmod', 'nmod', 'nmod',...   \n",
              "1  ['ROOT', 'aux', 'acl', 'nmod', 'nmod', 'nmod',...   \n",
              "2  ['ROOT', 'prt', 'prep', 'compound', 'pobj', 'p...   \n",
              "3  ['dep', 'nsubj', 'prep', 'compound', 'compound...   \n",
              "4  ['det', 'nsubj', 'aux', 'ROOT', 'cc', 'conj', ...   \n",
              "\n",
              "                                                 sdp  \\\n",
              "0  ['Lumos Networks Corp.', 'stock', 'purchase', ...   \n",
              "1  ['Lumos Networks Corp.', 'stock', 'purchase', ...   \n",
              "2  ['Stockhouse', 'Vartanian', 'pay', 'Global Gold']   \n",
              "3  ['Embassy Suites', 'agreements', 'separate', '...   \n",
              "4  ['WFOE', 'waive', 'unconditionally', 'claims',...   \n",
              "\n",
              "                  sdp_tok_idx  \\\n",
              "0                      [7, 2]   \n",
              "1                      [7, 2]   \n",
              "2                   [70, 114]   \n",
              "3                [13, 19, 25]   \n",
              "4  [3, 7, 10, 11, 15, 31, 19]   \n",
              "\n",
              "                                          token_test                       e1  \\\n",
              "0  warrantstopurchaselumosnetworkscorpcommonstock...        lumosnetworkscorp   \n",
              "1  warrantstopurchaselumosnetworkscorpcommonstock...      thepamplonaentities   \n",
              "2  turnovertoglobalgoldatitsofficesinryenewyorkco...               globalgold   \n",
              "3  tseighteenoffelcorlodginglpconsolidatedhotelso...          felcorlodginglp   \n",
              "4  thewfoewillwaiveandreleaseyouunconditionallyfr...  youondemandholdingsincs   \n",
              "\n",
              "                    e2  \n",
              "0  thepamplonaentities  \n",
              "1    lumosnetworkscorp  \n",
              "2           stockhouse  \n",
              "3        embassysuites  \n",
              "4                 wfoe  "
            ],
            "text/html": [
              "\n",
              "  <div id=\"df-a5275a72-baa3-4604-ac69-4eb66b6696d0\">\n",
              "    <div class=\"colab-df-container\">\n",
              "      <div>\n",
              "<style scoped>\n",
              "    .dataframe tbody tr th:only-of-type {\n",
              "        vertical-align: middle;\n",
              "    }\n",
              "\n",
              "    .dataframe tbody tr th {\n",
              "        vertical-align: top;\n",
              "    }\n",
              "\n",
              "    .dataframe thead th {\n",
              "        text-align: right;\n",
              "    }\n",
              "</style>\n",
              "<table border=\"1\" class=\"dataframe\">\n",
              "  <thead>\n",
              "    <tr style=\"text-align: right;\">\n",
              "      <th></th>\n",
              "      <th>id</th>\n",
              "      <th>docid</th>\n",
              "      <th>relation</th>\n",
              "      <th>rel_group</th>\n",
              "      <th>token</th>\n",
              "      <th>e1_start</th>\n",
              "      <th>e1_end</th>\n",
              "      <th>e2_start</th>\n",
              "      <th>e2_end</th>\n",
              "      <th>e1_type</th>\n",
              "      <th>e2_type</th>\n",
              "      <th>spacy_pos</th>\n",
              "      <th>spacy_ner</th>\n",
              "      <th>spacy_head</th>\n",
              "      <th>spacy_deprel</th>\n",
              "      <th>sdp</th>\n",
              "      <th>sdp_tok_idx</th>\n",
              "      <th>token_test</th>\n",
              "      <th>e1</th>\n",
              "      <th>e2</th>\n",
              "    </tr>\n",
              "  </thead>\n",
              "  <tbody>\n",
              "    <tr>\n",
              "      <th>0</th>\n",
              "      <td>NaN</td>\n",
              "      <td>2016/2017</td>\n",
              "      <td>no_relation</td>\n",
              "      <td>ORG-ORG</td>\n",
              "      <td>['warrants', 'to', 'purchase', 'Lumos', 'Netwo...</td>\n",
              "      <td>3</td>\n",
              "      <td>6</td>\n",
              "      <td>9</td>\n",
              "      <td>12</td>\n",
              "      <td>ORG</td>\n",
              "      <td>ORG</td>\n",
              "      <td>['NNS', 'TO', 'VB', 'NNP', 'NNP', 'NNP', 'JJ',...</td>\n",
              "      <td>['O', 'O', 'O', 'ORG', 'ORG', 'ORG', 'O', 'O',...</td>\n",
              "      <td>[0, 2, 0, 5, 5, 7, 7, 2, 7, 11, 11, 7, 0, 0]</td>\n",
              "      <td>['ROOT', 'aux', 'acl', 'nmod', 'nmod', 'nmod',...</td>\n",
              "      <td>['Lumos Networks Corp.', 'stock', 'purchase', ...</td>\n",
              "      <td>[7, 2]</td>\n",
              "      <td>warrantstopurchaselumosnetworkscorpcommonstock...</td>\n",
              "      <td>lumosnetworkscorp</td>\n",
              "      <td>thepamplonaentities</td>\n",
              "    </tr>\n",
              "    <tr>\n",
              "      <th>1</th>\n",
              "      <td>NaN</td>\n",
              "      <td>2016/2017</td>\n",
              "      <td>no_relation</td>\n",
              "      <td>ORG-ORG</td>\n",
              "      <td>['warrants', 'to', 'purchase', 'Lumos', 'Netwo...</td>\n",
              "      <td>9</td>\n",
              "      <td>12</td>\n",
              "      <td>3</td>\n",
              "      <td>6</td>\n",
              "      <td>ORG</td>\n",
              "      <td>ORG</td>\n",
              "      <td>['NNS', 'TO', 'VB', 'NNP', 'NNP', 'NNP', 'JJ',...</td>\n",
              "      <td>['O', 'O', 'O', 'ORG', 'ORG', 'ORG', 'O', 'O',...</td>\n",
              "      <td>[0, 2, 0, 5, 5, 7, 7, 2, 7, 11, 11, 7, 0, 0]</td>\n",
              "      <td>['ROOT', 'aux', 'acl', 'nmod', 'nmod', 'nmod',...</td>\n",
              "      <td>['Lumos Networks Corp.', 'stock', 'purchase', ...</td>\n",
              "      <td>[7, 2]</td>\n",
              "      <td>warrantstopurchaselumosnetworkscorpcommonstock...</td>\n",
              "      <td>thepamplonaentities</td>\n",
              "      <td>lumosnetworkscorp</td>\n",
              "    </tr>\n",
              "    <tr>\n",
              "      <th>2</th>\n",
              "      <td>BERTPretrain_10KReports/2017/QTR2/20170518_10-...</td>\n",
              "      <td>2016/2017</td>\n",
              "      <td>no_relation</td>\n",
              "      <td>ORG-ORG</td>\n",
              "      <td>['turn', 'over', 'to', 'Global', 'Gold', 'at',...</td>\n",
              "      <td>115</td>\n",
              "      <td>117</td>\n",
              "      <td>95</td>\n",
              "      <td>96</td>\n",
              "      <td>ORG</td>\n",
              "      <td>ORG</td>\n",
              "      <td>['NN', 'RP', 'IN', 'NNP', 'NNP', 'IN', 'PRP$',...</td>\n",
              "      <td>['O', 'O', 'O', 'O', 'O', 'O', 'O', 'O', 'O', ...</td>\n",
              "      <td>[0, 0, 0, 4, 2, 4, 7, 5, 7, 8, 9, 12, 9, 0, 19...</td>\n",
              "      <td>['ROOT', 'prt', 'prep', 'compound', 'pobj', 'p...</td>\n",
              "      <td>['Stockhouse', 'Vartanian', 'pay', 'Global Gold']</td>\n",
              "      <td>[70, 114]</td>\n",
              "      <td>turnovertoglobalgoldatitsofficesinryenewyorkco...</td>\n",
              "      <td>globalgold</td>\n",
              "      <td>stockhouse</td>\n",
              "    </tr>\n",
              "    <tr>\n",
              "      <th>3</th>\n",
              "      <td>NaN</td>\n",
              "      <td>2016/2017</td>\n",
              "      <td>no_relation</td>\n",
              "      <td>ORG-ORG</td>\n",
              "      <td>['ts', 'Eighteen', 'of', 'FelCor', 'Lodging', ...</td>\n",
              "      <td>21</td>\n",
              "      <td>24</td>\n",
              "      <td>15</td>\n",
              "      <td>17</td>\n",
              "      <td>ORG</td>\n",
              "      <td>ORG</td>\n",
              "      <td>['NNP', 'CD', 'IN', 'NNP', 'NNP', 'NNP', 'NNP'...</td>\n",
              "      <td>['O', 'O', 'O', 'O', 'O', 'O', 'O', 'O', 'O', ...</td>\n",
              "      <td>[8, 8, 1, 7, 7, 7, 7, 2, 8, 8, 13, 10, 10, 9, ...</td>\n",
              "      <td>['dep', 'nsubj', 'prep', 'compound', 'compound...</td>\n",
              "      <td>['Embassy Suites', 'agreements', 'separate', '...</td>\n",
              "      <td>[13, 19, 25]</td>\n",
              "      <td>tseighteenoffelcorlodginglpconsolidatedhotelso...</td>\n",
              "      <td>felcorlodginglp</td>\n",
              "      <td>embassysuites</td>\n",
              "    </tr>\n",
              "    <tr>\n",
              "      <th>4</th>\n",
              "      <td>NaN</td>\n",
              "      <td>2016/2017</td>\n",
              "      <td>no_relation</td>\n",
              "      <td>ORG-ORG</td>\n",
              "      <td>['the', 'WFOE', 'will', 'waive', 'and', 'relea...</td>\n",
              "      <td>21</td>\n",
              "      <td>29</td>\n",
              "      <td>1</td>\n",
              "      <td>2</td>\n",
              "      <td>ORG</td>\n",
              "      <td>ORG</td>\n",
              "      <td>['DT', 'NNP', 'MD', 'VB', 'CC', 'VB', 'PRP', '...</td>\n",
              "      <td>['O', 'ORG', 'O', 'O', 'O', 'O', 'O', 'O', 'O'...</td>\n",
              "      <td>[1, 3, 3, 3, 3, 3, 5, 5, 5, 10, 8, 10, 11, 12,...</td>\n",
              "      <td>['det', 'nsubj', 'aux', 'ROOT', 'cc', 'conj', ...</td>\n",
              "      <td>['WFOE', 'waive', 'unconditionally', 'claims',...</td>\n",
              "      <td>[3, 7, 10, 11, 15, 31, 19]</td>\n",
              "      <td>thewfoewillwaiveandreleaseyouunconditionallyfr...</td>\n",
              "      <td>youondemandholdingsincs</td>\n",
              "      <td>wfoe</td>\n",
              "    </tr>\n",
              "  </tbody>\n",
              "</table>\n",
              "</div>\n",
              "      <button class=\"colab-df-convert\" onclick=\"convertToInteractive('df-a5275a72-baa3-4604-ac69-4eb66b6696d0')\"\n",
              "              title=\"Convert this dataframe to an interactive table.\"\n",
              "              style=\"display:none;\">\n",
              "        \n",
              "  <svg xmlns=\"http://www.w3.org/2000/svg\" height=\"24px\"viewBox=\"0 0 24 24\"\n",
              "       width=\"24px\">\n",
              "    <path d=\"M0 0h24v24H0V0z\" fill=\"none\"/>\n",
              "    <path d=\"M18.56 5.44l.94 2.06.94-2.06 2.06-.94-2.06-.94-.94-2.06-.94 2.06-2.06.94zm-11 1L8.5 8.5l.94-2.06 2.06-.94-2.06-.94L8.5 2.5l-.94 2.06-2.06.94zm10 10l.94 2.06.94-2.06 2.06-.94-2.06-.94-.94-2.06-.94 2.06-2.06.94z\"/><path d=\"M17.41 7.96l-1.37-1.37c-.4-.4-.92-.59-1.43-.59-.52 0-1.04.2-1.43.59L10.3 9.45l-7.72 7.72c-.78.78-.78 2.05 0 2.83L4 21.41c.39.39.9.59 1.41.59.51 0 1.02-.2 1.41-.59l7.78-7.78 2.81-2.81c.8-.78.8-2.07 0-2.86zM5.41 20L4 18.59l7.72-7.72 1.47 1.35L5.41 20z\"/>\n",
              "  </svg>\n",
              "      </button>\n",
              "      \n",
              "  <style>\n",
              "    .colab-df-container {\n",
              "      display:flex;\n",
              "      flex-wrap:wrap;\n",
              "      gap: 12px;\n",
              "    }\n",
              "\n",
              "    .colab-df-convert {\n",
              "      background-color: #E8F0FE;\n",
              "      border: none;\n",
              "      border-radius: 50%;\n",
              "      cursor: pointer;\n",
              "      display: none;\n",
              "      fill: #1967D2;\n",
              "      height: 32px;\n",
              "      padding: 0 0 0 0;\n",
              "      width: 32px;\n",
              "    }\n",
              "\n",
              "    .colab-df-convert:hover {\n",
              "      background-color: #E2EBFA;\n",
              "      box-shadow: 0px 1px 2px rgba(60, 64, 67, 0.3), 0px 1px 3px 1px rgba(60, 64, 67, 0.15);\n",
              "      fill: #174EA6;\n",
              "    }\n",
              "\n",
              "    [theme=dark] .colab-df-convert {\n",
              "      background-color: #3B4455;\n",
              "      fill: #D2E3FC;\n",
              "    }\n",
              "\n",
              "    [theme=dark] .colab-df-convert:hover {\n",
              "      background-color: #434B5C;\n",
              "      box-shadow: 0px 1px 3px 1px rgba(0, 0, 0, 0.15);\n",
              "      filter: drop-shadow(0px 1px 2px rgba(0, 0, 0, 0.3));\n",
              "      fill: #FFFFFF;\n",
              "    }\n",
              "  </style>\n",
              "\n",
              "      <script>\n",
              "        const buttonEl =\n",
              "          document.querySelector('#df-a5275a72-baa3-4604-ac69-4eb66b6696d0 button.colab-df-convert');\n",
              "        buttonEl.style.display =\n",
              "          google.colab.kernel.accessAllowed ? 'block' : 'none';\n",
              "\n",
              "        async function convertToInteractive(key) {\n",
              "          const element = document.querySelector('#df-a5275a72-baa3-4604-ac69-4eb66b6696d0');\n",
              "          const dataTable =\n",
              "            await google.colab.kernel.invokeFunction('convertToInteractive',\n",
              "                                                     [key], {});\n",
              "          if (!dataTable) return;\n",
              "\n",
              "          const docLinkHtml = 'Like what you see? Visit the ' +\n",
              "            '<a target=\"_blank\" href=https://colab.research.google.com/notebooks/data_table.ipynb>data table notebook</a>'\n",
              "            + ' to learn more about interactive tables.';\n",
              "          element.innerHTML = '';\n",
              "          dataTable['output_type'] = 'display_data';\n",
              "          await google.colab.output.renderOutput(dataTable, element);\n",
              "          const docLink = document.createElement('div');\n",
              "          docLink.innerHTML = docLinkHtml;\n",
              "          element.appendChild(docLink);\n",
              "        }\n",
              "      </script>\n",
              "    </div>\n",
              "  </div>\n",
              "  "
            ]
          },
          "metadata": {},
          "execution_count": 9
        }
      ]
    },
    {
      "cell_type": "code",
      "source": [
        "train['token'] = train['token'].apply(lambda x : eval(x))\n",
        "train['full_text'] = train['token'].apply(lambda x : ' '.join(x))\n",
        "train['entity_1'] = train.apply(lambda x : ' '.join(x.token[int(x.e1_start) : int(x.e1_end)]), axis=1)\n",
        "train['entity_2'] = train.apply(lambda x : ' '.join(x.token[int(x.e2_start) : int(x.e2_end)]), axis=1)"
      ],
      "metadata": {
        "id": "0o8Fj9D79FBK"
      },
      "execution_count": null,
      "outputs": []
    },
    {
      "cell_type": "code",
      "source": [
        "train['full_text_entity_1_masked'] =  train.apply(lambda x : ' '.join(x.token[0 : int(x.e1_start)] + ['[MASK]'] + x.token[int(x.e1_end):]), axis=1)\n",
        "train['full_text_entity_2_masked'] =  train.apply(lambda x : ' '.join(x.token[0 : int(x.e2_start)] + ['[MASK]'] + x.token[int(x.e2_end):]), axis=1)\n"
      ],
      "metadata": {
        "id": "vD6V7QjFBIiP"
      },
      "execution_count": null,
      "outputs": []
    },
    {
      "cell_type": "code",
      "source": [
        "train_use = train[['full_text', 'entity_1', 'entity_2', 'e1_type',\t'e2_type', 'full_text_entity_1_masked', 'full_text_entity_2_masked', 'rel_group', 'relation']]\n",
        "train_use"
      ],
      "metadata": {
        "colab": {
          "base_uri": "https://localhost:8080/",
          "height": 866
        },
        "id": "agWZuFgI-OrS",
        "outputId": "12fbd160-e4f6-40ed-bd70-000c194f0c2b"
      },
      "execution_count": null,
      "outputs": [
        {
          "output_type": "execute_result",
          "data": {
            "text/plain": [
              "                                               full_text  \\\n",
              "0      warrants to purchase Lumos Networks Corp. comm...   \n",
              "1      warrants to purchase Lumos Networks Corp. comm...   \n",
              "2      turn over to Global Gold at its offices in Rye...   \n",
              "3      ts Eighteen of FelCor Lodging LP Consolidated ...   \n",
              "4      the WFOE will waive and release you unconditio...   \n",
              "...                                                  ...   \n",
              "20065  On April 15 , 2010 , Demand Pooling , Inc. ent...   \n",
              "20066  On July 17 , 2017 , Greater Cannabis Company ,...   \n",
              "20067  In November 2016 , Xcede entered into another ...   \n",
              "20068  On August 5 , 2015 , Achaogen Inc entered into...   \n",
              "20069  As discussed in Note 6 , Petro River Oil Corp....   \n",
              "\n",
              "                               entity_1                              entity_2  \\\n",
              "0                  Lumos Networks Corp.                 the Pamplona Entities   \n",
              "1                 the Pamplona Entities                  Lumos Networks Corp.   \n",
              "2                           Global Gold                            Stockhouse   \n",
              "3                     FelCor Lodging LP                        Embassy Suites   \n",
              "4      YOU ON DEMAND HOLDINGS , INC . s                                  WFOE   \n",
              "...                                 ...                                   ...   \n",
              "20065             Demand Pooling , Inc.  Demand Pooling Global Services , LLC   \n",
              "20066   Greater Cannabis Company , Inc.          Xeraflop Technologies , Inc.   \n",
              "20067                             Xcede                                  Cook   \n",
              "20068                      Achaogen Inc                     Solar Capital Ltd   \n",
              "20069             Petro River Oil Corp.                                Fortis   \n",
              "\n",
              "      e1_type e2_type                          full_text_entity_1_masked  \\\n",
              "0         ORG     ORG  warrants to purchase [MASK] common stock , the...   \n",
              "1         ORG     ORG  warrants to purchase Lumos Networks Corp. comm...   \n",
              "2         ORG     ORG  turn over to Global Gold at its offices in Rye...   \n",
              "3         ORG     ORG  ts Eighteen of FelCor Lodging LP Consolidated ...   \n",
              "4         ORG     ORG  the WFOE will waive and release you unconditio...   \n",
              "...       ...     ...                                                ...   \n",
              "20065     ORG     ORG  On April 15 , 2010 , [MASK] entered into a Lic...   \n",
              "20066     ORG     ORG  On July 17 , 2017 , [MASK] entered into a Conv...   \n",
              "20067     ORG     ORG  In November 2016 , [MASK] entered into another...   \n",
              "20068     ORG     ORG  On August 5 , 2015 , [MASK] entered into a loa...   \n",
              "20069     ORG     ORG  As discussed in Note 6 , [MASK] entered into t...   \n",
              "\n",
              "                               full_text_entity_2_masked rel_group  \\\n",
              "0      warrants to purchase Lumos Networks Corp. comm...   ORG-ORG   \n",
              "1      warrants to purchase [MASK] common stock , the...   ORG-ORG   \n",
              "2      turn over to Global Gold at its offices in Rye...   ORG-ORG   \n",
              "3      ts Eighteen of FelCor Lodging LP Consolidated ...   ORG-ORG   \n",
              "4      the [MASK] will waive and release you uncondit...   ORG-ORG   \n",
              "...                                                  ...       ...   \n",
              "20065  On April 15 , 2010 , Demand Pooling , Inc. ent...   ORG-ORG   \n",
              "20066  On July 17 , 2017 , Greater Cannabis Company ,...   ORG-ORG   \n",
              "20067  In November 2016 , Xcede entered into another ...   ORG-ORG   \n",
              "20068  On August 5 , 2015 , Achaogen Inc entered into...   ORG-ORG   \n",
              "20069  As discussed in Note 6 , Petro River Oil Corp....   ORG-ORG   \n",
              "\n",
              "                     relation  \n",
              "0                 no_relation  \n",
              "1                 no_relation  \n",
              "2                 no_relation  \n",
              "3                 no_relation  \n",
              "4                 no_relation  \n",
              "...                       ...  \n",
              "20065  org:org:agreement_with  \n",
              "20066  org:org:agreement_with  \n",
              "20067  org:org:agreement_with  \n",
              "20068  org:org:agreement_with  \n",
              "20069  org:org:agreement_with  \n",
              "\n",
              "[20070 rows x 9 columns]"
            ],
            "text/html": [
              "\n",
              "  <div id=\"df-0cfc3cd0-4bf2-429c-bf3f-8372b2c85bcc\">\n",
              "    <div class=\"colab-df-container\">\n",
              "      <div>\n",
              "<style scoped>\n",
              "    .dataframe tbody tr th:only-of-type {\n",
              "        vertical-align: middle;\n",
              "    }\n",
              "\n",
              "    .dataframe tbody tr th {\n",
              "        vertical-align: top;\n",
              "    }\n",
              "\n",
              "    .dataframe thead th {\n",
              "        text-align: right;\n",
              "    }\n",
              "</style>\n",
              "<table border=\"1\" class=\"dataframe\">\n",
              "  <thead>\n",
              "    <tr style=\"text-align: right;\">\n",
              "      <th></th>\n",
              "      <th>full_text</th>\n",
              "      <th>entity_1</th>\n",
              "      <th>entity_2</th>\n",
              "      <th>e1_type</th>\n",
              "      <th>e2_type</th>\n",
              "      <th>full_text_entity_1_masked</th>\n",
              "      <th>full_text_entity_2_masked</th>\n",
              "      <th>rel_group</th>\n",
              "      <th>relation</th>\n",
              "    </tr>\n",
              "  </thead>\n",
              "  <tbody>\n",
              "    <tr>\n",
              "      <th>0</th>\n",
              "      <td>warrants to purchase Lumos Networks Corp. comm...</td>\n",
              "      <td>Lumos Networks Corp.</td>\n",
              "      <td>the Pamplona Entities</td>\n",
              "      <td>ORG</td>\n",
              "      <td>ORG</td>\n",
              "      <td>warrants to purchase [MASK] common stock , the...</td>\n",
              "      <td>warrants to purchase Lumos Networks Corp. comm...</td>\n",
              "      <td>ORG-ORG</td>\n",
              "      <td>no_relation</td>\n",
              "    </tr>\n",
              "    <tr>\n",
              "      <th>1</th>\n",
              "      <td>warrants to purchase Lumos Networks Corp. comm...</td>\n",
              "      <td>the Pamplona Entities</td>\n",
              "      <td>Lumos Networks Corp.</td>\n",
              "      <td>ORG</td>\n",
              "      <td>ORG</td>\n",
              "      <td>warrants to purchase Lumos Networks Corp. comm...</td>\n",
              "      <td>warrants to purchase [MASK] common stock , the...</td>\n",
              "      <td>ORG-ORG</td>\n",
              "      <td>no_relation</td>\n",
              "    </tr>\n",
              "    <tr>\n",
              "      <th>2</th>\n",
              "      <td>turn over to Global Gold at its offices in Rye...</td>\n",
              "      <td>Global Gold</td>\n",
              "      <td>Stockhouse</td>\n",
              "      <td>ORG</td>\n",
              "      <td>ORG</td>\n",
              "      <td>turn over to Global Gold at its offices in Rye...</td>\n",
              "      <td>turn over to Global Gold at its offices in Rye...</td>\n",
              "      <td>ORG-ORG</td>\n",
              "      <td>no_relation</td>\n",
              "    </tr>\n",
              "    <tr>\n",
              "      <th>3</th>\n",
              "      <td>ts Eighteen of FelCor Lodging LP Consolidated ...</td>\n",
              "      <td>FelCor Lodging LP</td>\n",
              "      <td>Embassy Suites</td>\n",
              "      <td>ORG</td>\n",
              "      <td>ORG</td>\n",
              "      <td>ts Eighteen of FelCor Lodging LP Consolidated ...</td>\n",
              "      <td>ts Eighteen of FelCor Lodging LP Consolidated ...</td>\n",
              "      <td>ORG-ORG</td>\n",
              "      <td>no_relation</td>\n",
              "    </tr>\n",
              "    <tr>\n",
              "      <th>4</th>\n",
              "      <td>the WFOE will waive and release you unconditio...</td>\n",
              "      <td>YOU ON DEMAND HOLDINGS , INC . s</td>\n",
              "      <td>WFOE</td>\n",
              "      <td>ORG</td>\n",
              "      <td>ORG</td>\n",
              "      <td>the WFOE will waive and release you unconditio...</td>\n",
              "      <td>the [MASK] will waive and release you uncondit...</td>\n",
              "      <td>ORG-ORG</td>\n",
              "      <td>no_relation</td>\n",
              "    </tr>\n",
              "    <tr>\n",
              "      <th>...</th>\n",
              "      <td>...</td>\n",
              "      <td>...</td>\n",
              "      <td>...</td>\n",
              "      <td>...</td>\n",
              "      <td>...</td>\n",
              "      <td>...</td>\n",
              "      <td>...</td>\n",
              "      <td>...</td>\n",
              "      <td>...</td>\n",
              "    </tr>\n",
              "    <tr>\n",
              "      <th>20065</th>\n",
              "      <td>On April 15 , 2010 , Demand Pooling , Inc. ent...</td>\n",
              "      <td>Demand Pooling , Inc.</td>\n",
              "      <td>Demand Pooling Global Services , LLC</td>\n",
              "      <td>ORG</td>\n",
              "      <td>ORG</td>\n",
              "      <td>On April 15 , 2010 , [MASK] entered into a Lic...</td>\n",
              "      <td>On April 15 , 2010 , Demand Pooling , Inc. ent...</td>\n",
              "      <td>ORG-ORG</td>\n",
              "      <td>org:org:agreement_with</td>\n",
              "    </tr>\n",
              "    <tr>\n",
              "      <th>20066</th>\n",
              "      <td>On July 17 , 2017 , Greater Cannabis Company ,...</td>\n",
              "      <td>Greater Cannabis Company , Inc.</td>\n",
              "      <td>Xeraflop Technologies , Inc.</td>\n",
              "      <td>ORG</td>\n",
              "      <td>ORG</td>\n",
              "      <td>On July 17 , 2017 , [MASK] entered into a Conv...</td>\n",
              "      <td>On July 17 , 2017 , Greater Cannabis Company ,...</td>\n",
              "      <td>ORG-ORG</td>\n",
              "      <td>org:org:agreement_with</td>\n",
              "    </tr>\n",
              "    <tr>\n",
              "      <th>20067</th>\n",
              "      <td>In November 2016 , Xcede entered into another ...</td>\n",
              "      <td>Xcede</td>\n",
              "      <td>Cook</td>\n",
              "      <td>ORG</td>\n",
              "      <td>ORG</td>\n",
              "      <td>In November 2016 , [MASK] entered into another...</td>\n",
              "      <td>In November 2016 , Xcede entered into another ...</td>\n",
              "      <td>ORG-ORG</td>\n",
              "      <td>org:org:agreement_with</td>\n",
              "    </tr>\n",
              "    <tr>\n",
              "      <th>20068</th>\n",
              "      <td>On August 5 , 2015 , Achaogen Inc entered into...</td>\n",
              "      <td>Achaogen Inc</td>\n",
              "      <td>Solar Capital Ltd</td>\n",
              "      <td>ORG</td>\n",
              "      <td>ORG</td>\n",
              "      <td>On August 5 , 2015 , [MASK] entered into a loa...</td>\n",
              "      <td>On August 5 , 2015 , Achaogen Inc entered into...</td>\n",
              "      <td>ORG-ORG</td>\n",
              "      <td>org:org:agreement_with</td>\n",
              "    </tr>\n",
              "    <tr>\n",
              "      <th>20069</th>\n",
              "      <td>As discussed in Note 6 , Petro River Oil Corp....</td>\n",
              "      <td>Petro River Oil Corp.</td>\n",
              "      <td>Fortis</td>\n",
              "      <td>ORG</td>\n",
              "      <td>ORG</td>\n",
              "      <td>As discussed in Note 6 , [MASK] entered into t...</td>\n",
              "      <td>As discussed in Note 6 , Petro River Oil Corp....</td>\n",
              "      <td>ORG-ORG</td>\n",
              "      <td>org:org:agreement_with</td>\n",
              "    </tr>\n",
              "  </tbody>\n",
              "</table>\n",
              "<p>20070 rows × 9 columns</p>\n",
              "</div>\n",
              "      <button class=\"colab-df-convert\" onclick=\"convertToInteractive('df-0cfc3cd0-4bf2-429c-bf3f-8372b2c85bcc')\"\n",
              "              title=\"Convert this dataframe to an interactive table.\"\n",
              "              style=\"display:none;\">\n",
              "        \n",
              "  <svg xmlns=\"http://www.w3.org/2000/svg\" height=\"24px\"viewBox=\"0 0 24 24\"\n",
              "       width=\"24px\">\n",
              "    <path d=\"M0 0h24v24H0V0z\" fill=\"none\"/>\n",
              "    <path d=\"M18.56 5.44l.94 2.06.94-2.06 2.06-.94-2.06-.94-.94-2.06-.94 2.06-2.06.94zm-11 1L8.5 8.5l.94-2.06 2.06-.94-2.06-.94L8.5 2.5l-.94 2.06-2.06.94zm10 10l.94 2.06.94-2.06 2.06-.94-2.06-.94-.94-2.06-.94 2.06-2.06.94z\"/><path d=\"M17.41 7.96l-1.37-1.37c-.4-.4-.92-.59-1.43-.59-.52 0-1.04.2-1.43.59L10.3 9.45l-7.72 7.72c-.78.78-.78 2.05 0 2.83L4 21.41c.39.39.9.59 1.41.59.51 0 1.02-.2 1.41-.59l7.78-7.78 2.81-2.81c.8-.78.8-2.07 0-2.86zM5.41 20L4 18.59l7.72-7.72 1.47 1.35L5.41 20z\"/>\n",
              "  </svg>\n",
              "      </button>\n",
              "      \n",
              "  <style>\n",
              "    .colab-df-container {\n",
              "      display:flex;\n",
              "      flex-wrap:wrap;\n",
              "      gap: 12px;\n",
              "    }\n",
              "\n",
              "    .colab-df-convert {\n",
              "      background-color: #E8F0FE;\n",
              "      border: none;\n",
              "      border-radius: 50%;\n",
              "      cursor: pointer;\n",
              "      display: none;\n",
              "      fill: #1967D2;\n",
              "      height: 32px;\n",
              "      padding: 0 0 0 0;\n",
              "      width: 32px;\n",
              "    }\n",
              "\n",
              "    .colab-df-convert:hover {\n",
              "      background-color: #E2EBFA;\n",
              "      box-shadow: 0px 1px 2px rgba(60, 64, 67, 0.3), 0px 1px 3px 1px rgba(60, 64, 67, 0.15);\n",
              "      fill: #174EA6;\n",
              "    }\n",
              "\n",
              "    [theme=dark] .colab-df-convert {\n",
              "      background-color: #3B4455;\n",
              "      fill: #D2E3FC;\n",
              "    }\n",
              "\n",
              "    [theme=dark] .colab-df-convert:hover {\n",
              "      background-color: #434B5C;\n",
              "      box-shadow: 0px 1px 3px 1px rgba(0, 0, 0, 0.15);\n",
              "      filter: drop-shadow(0px 1px 2px rgba(0, 0, 0, 0.3));\n",
              "      fill: #FFFFFF;\n",
              "    }\n",
              "  </style>\n",
              "\n",
              "      <script>\n",
              "        const buttonEl =\n",
              "          document.querySelector('#df-0cfc3cd0-4bf2-429c-bf3f-8372b2c85bcc button.colab-df-convert');\n",
              "        buttonEl.style.display =\n",
              "          google.colab.kernel.accessAllowed ? 'block' : 'none';\n",
              "\n",
              "        async function convertToInteractive(key) {\n",
              "          const element = document.querySelector('#df-0cfc3cd0-4bf2-429c-bf3f-8372b2c85bcc');\n",
              "          const dataTable =\n",
              "            await google.colab.kernel.invokeFunction('convertToInteractive',\n",
              "                                                     [key], {});\n",
              "          if (!dataTable) return;\n",
              "\n",
              "          const docLinkHtml = 'Like what you see? Visit the ' +\n",
              "            '<a target=\"_blank\" href=https://colab.research.google.com/notebooks/data_table.ipynb>data table notebook</a>'\n",
              "            + ' to learn more about interactive tables.';\n",
              "          element.innerHTML = '';\n",
              "          dataTable['output_type'] = 'display_data';\n",
              "          await google.colab.output.renderOutput(dataTable, element);\n",
              "          const docLink = document.createElement('div');\n",
              "          docLink.innerHTML = docLinkHtml;\n",
              "          element.appendChild(docLink);\n",
              "        }\n",
              "      </script>\n",
              "    </div>\n",
              "  </div>\n",
              "  "
            ]
          },
          "metadata": {},
          "execution_count": 9
        }
      ]
    },
    {
      "cell_type": "code",
      "source": [
        "train_use['relation'].value_counts()"
      ],
      "metadata": {
        "colab": {
          "base_uri": "https://localhost:8080/"
        },
        "id": "QDog0dLL_nEl",
        "outputId": "0e6ac742-a410-4118-d253-4d4bb8378b89"
      },
      "execution_count": null,
      "outputs": [
        {
          "output_type": "execute_result",
          "data": {
            "text/plain": [
              "no_relation                 9128\n",
              "pers:title:title            3126\n",
              "org:gpe:operations_in       2832\n",
              "pers:org:employee_of        1733\n",
              "org:org:agreement_with       653\n",
              "org:date:formed_on           448\n",
              "pers:org:member_of           441\n",
              "org:org:subsidiary_of        386\n",
              "org:org:shares_of            286\n",
              "org:money:revenue_of         217\n",
              "org:money:loss_of            141\n",
              "org:gpe:headquartered_in     135\n",
              "org:date:acquired_on         134\n",
              "pers:org:founder_of           92\n",
              "org:gpe:formed_in             81\n",
              "org:org:acquired_by           55\n",
              "pers:univ:employee_of         53\n",
              "pers:gov_agy:member_of        40\n",
              "pers:univ:attended            30\n",
              "pers:univ:member_of           23\n",
              "org:money:profit_of           20\n",
              "org:money:cost_of             16\n",
              "Name: relation, dtype: int64"
            ]
          },
          "metadata": {},
          "execution_count": 10
        }
      ]
    },
    {
      "cell_type": "code",
      "source": [
        "tokenizer = AutoTokenizer.from_pretrained(\"nlpaueb/sec-bert-base\")\n",
        "model = BertModel.from_pretrained(\"nlpaueb/sec-bert-base\")"
      ],
      "metadata": {
        "colab": {
          "base_uri": "https://localhost:8080/",
          "height": 252,
          "referenced_widgets": [
            "8a989ba2f9e54f20948ca101376b21b0",
            "05035efa1b7441a48c431d1bca11b870",
            "117a8d8b1f174c00bd0f4b4213e4a2b9",
            "e12a40595f6d460182ea85b47885f6c2",
            "016bb510efe345ac816d3364fdb54ce2",
            "8b71ec94ccee43b38bca2377547477c4",
            "0b1f7218e3cd403db72ed3ca1c0259d4",
            "a88c3a4df7ee4410b7df50795e1c6e91",
            "1b1b3537d66f43ae91d89500da1792b1",
            "93362dc9fe57473ab5778964e50fdc53",
            "ac80fb433f9a402992d19ad46697e781",
            "6517d1015f8f425cb10d0e7f7d1caae0",
            "445261c8d2e5499ca9f1d6de03b24762",
            "e06ab9651d6a478d9ce52e28ce5798e9",
            "f22aeba6600a463c847a9b52ccd09ded",
            "7dd89e47110f409295250478efb49f20",
            "64c53eee231846b7a82ac36c616b84d9",
            "df77ec264f33409bbeaf7af50973e44f",
            "ac8c3d79c8f141cba7bf4b46e0d52242",
            "e184d7eac97447729656dbdcfc1f06d6",
            "3fc9652ef955428481a91b282f61ead2",
            "95638c4a34fb4929b5dddb2c589f9476",
            "0b7a6b7639d74af781ddea05a9e463bf",
            "b7ac4cca230345268892510af07e9d1a",
            "21e0f3a72eaa4bf5849c8874db3d6a8a",
            "f7709a9a7ed94703ba676d1d6aeae1a7",
            "15c20b0ae04c4527b41305540d2d113f",
            "231ba07aa08f4a42b0c2056e7e5713f0",
            "47b4759f144246668ce4dbef3792c9e1",
            "b6570dc3c3bd422ab7ecd2b4bc9dc612",
            "7f9699e0ba1d4a1f9b5784ddc6f966f7",
            "c50df416686d4f839789db3cc640e4a7",
            "72e4a75b9c564fd286c91a47c01ddeec",
            "d93292a75f14443b8ac0e4d90c7e80ba",
            "9a04330e05074011906360c69cf3aaba",
            "ed9ed5b65c164313b15796bfee7fbc71",
            "cec03975de394de8b514a82821654314",
            "e6c8d10c758945d88c6789768c744afc",
            "7934ccc17fb24768a35998fc5f92d39f",
            "1879bdedfb0e4eb6a00703d9a9cdaf1e",
            "85331b76442641cd9ae5a0b818004c0c",
            "8ad6a1ffb2d4463fbc5ed983ffb4a9dc",
            "fd49ff419cef4359a4114a0182d40e26",
            "2c285ff91de24792a1120879cb91d4ae",
            "89010ac2e08e467688a670e3caaf84d3",
            "3d2dce4086aa40d186fa8724e15873d3",
            "0cb51241bfe449d390f8ca5ee5c78c69",
            "1155ebe5c80b4ae7b2c6a1b1fb4575b4",
            "7491885364b4490daef240050c7c4c40",
            "f09486f3ae504cdf9b8155abeffd493c",
            "aab7865c90984c188fe3f54f656c92d2",
            "30f5cd8968a349dc8ef2a0e48de3e071",
            "47633bd831f44b3688732c6412f269b3",
            "bd6fe017a977415792c570660fbe4cf4",
            "ae7b3ab9cb6240bca9cdcaf8fafdd07a"
          ]
        },
        "id": "Z0e5hTDnDhe-",
        "outputId": "94f3530c-74ca-483c-893c-cf176b875f80"
      },
      "execution_count": null,
      "outputs": [
        {
          "output_type": "display_data",
          "data": {
            "text/plain": [
              "Downloading (…)okenizer_config.json:   0%|          | 0.00/263 [00:00<?, ?B/s]"
            ],
            "application/vnd.jupyter.widget-view+json": {
              "version_major": 2,
              "version_minor": 0,
              "model_id": "8a989ba2f9e54f20948ca101376b21b0"
            }
          },
          "metadata": {}
        },
        {
          "output_type": "display_data",
          "data": {
            "text/plain": [
              "Downloading (…)lve/main/config.json:   0%|          | 0.00/568 [00:00<?, ?B/s]"
            ],
            "application/vnd.jupyter.widget-view+json": {
              "version_major": 2,
              "version_minor": 0,
              "model_id": "6517d1015f8f425cb10d0e7f7d1caae0"
            }
          },
          "metadata": {}
        },
        {
          "output_type": "display_data",
          "data": {
            "text/plain": [
              "Downloading (…)solve/main/vocab.txt:   0%|          | 0.00/221k [00:00<?, ?B/s]"
            ],
            "application/vnd.jupyter.widget-view+json": {
              "version_major": 2,
              "version_minor": 0,
              "model_id": "0b7a6b7639d74af781ddea05a9e463bf"
            }
          },
          "metadata": {}
        },
        {
          "output_type": "display_data",
          "data": {
            "text/plain": [
              "Downloading (…)cial_tokens_map.json:   0%|          | 0.00/112 [00:00<?, ?B/s]"
            ],
            "application/vnd.jupyter.widget-view+json": {
              "version_major": 2,
              "version_minor": 0,
              "model_id": "d93292a75f14443b8ac0e4d90c7e80ba"
            }
          },
          "metadata": {}
        },
        {
          "output_type": "display_data",
          "data": {
            "text/plain": [
              "Downloading pytorch_model.bin:   0%|          | 0.00/439M [00:00<?, ?B/s]"
            ],
            "application/vnd.jupyter.widget-view+json": {
              "version_major": 2,
              "version_minor": 0,
              "model_id": "89010ac2e08e467688a670e3caaf84d3"
            }
          },
          "metadata": {}
        },
        {
          "output_type": "stream",
          "name": "stderr",
          "text": [
            "Some weights of the model checkpoint at nlpaueb/sec-bert-base were not used when initializing BertModel: ['cls.predictions.transform.dense.bias', 'cls.predictions.transform.LayerNorm.weight', 'cls.seq_relationship.weight', 'cls.seq_relationship.bias', 'cls.predictions.bias', 'cls.predictions.decoder.bias', 'cls.predictions.transform.dense.weight', 'cls.predictions.transform.LayerNorm.bias', 'cls.predictions.decoder.weight']\n",
            "- This IS expected if you are initializing BertModel from the checkpoint of a model trained on another task or with another architecture (e.g. initializing a BertForSequenceClassification model from a BertForPreTraining model).\n",
            "- This IS NOT expected if you are initializing BertModel from the checkpoint of a model that you expect to be exactly identical (initializing a BertForSequenceClassification model from a BertForSequenceClassification model).\n"
          ]
        }
      ]
    },
    {
      "cell_type": "code",
      "source": [
        "def get_embeddings(processed_text):\n",
        "  tokenized_text = tokenizer.tokenize(processed_text, max_length = 512)\n",
        "  indexed_tokens = tokenizer.convert_tokens_to_ids(tokenized_text)\n",
        "  try:\n",
        "    index = tokenized_text.index('[MASK]')\n",
        "    tokens_tensor = torch.tensor([indexed_tokens])\n",
        "  except ValueError:\n",
        "    tokenized_text = tokenizer.tokenize(processed_text)\n",
        "    tokenized_text_use = tokenized_text[max(0, tokenized_text.index('[MASK]')-255):min(tokenized_text.index('[MASK]')+255, len(tokenized_text))]\n",
        "    indexed_tokens = tokenizer.convert_tokens_to_ids(tokenized_text_use)\n",
        "    index = tokenized_text_use.index('[MASK]')\n",
        "    tokens_tensor = torch.tensor([indexed_tokens])\n",
        "\n",
        "\n",
        "  model.eval()\n",
        "  with torch.no_grad():\n",
        "    last_hidden_states = model(tokens_tensor)[0]\n",
        "\n",
        "  embedding_of_num = last_hidden_states[:,index,:]\n",
        "  embedding_of_num_use = embedding_of_num[0].cpu().detach().numpy()\n",
        "  return embedding_of_num_use"
      ],
      "metadata": {
        "id": "tp6x8CAB3hfE"
      },
      "execution_count": null,
      "outputs": []
    },
    {
      "cell_type": "code",
      "source": [
        "# As this step involves heavy compuattion, it was done in three steps\n",
        "# instances from 0 to 2840\n",
        "# instances from 2840 to 16625\n",
        "# instances from 16625 till end\n",
        "\n",
        "all_embedding1 = []\n",
        "all_embedding2 = []\n",
        "N = 16626 #2840\n",
        "for preprocessed_text1, preprocessed_text2 in zip(train_use['full_text_entity_1_masked'].tolist()[N:], train_use['full_text_entity_2_masked'].tolist()[N:]):\n",
        "  embedding1 = get_embeddings(preprocessed_text1)\n",
        "  embedding2 = get_embeddings(preprocessed_text2)\n",
        "  all_embedding1.append(embedding1)\n",
        "  all_embedding2.append(embedding2)"
      ],
      "metadata": {
        "id": "1xwDQeo5jgFL"
      },
      "execution_count": null,
      "outputs": []
    },
    {
      "cell_type": "code",
      "source": [
        "# pd.DataFrame(all_embedding1).to_csv(PATH + \"train_entity_1_embedding_0_2840.csv\", index = False)\n",
        "# pd.DataFrame(all_embedding2).to_csv(PATH + \"train_entity_2_embedding_0_2840.csv\", index = False)\n"
      ],
      "metadata": {
        "id": "tBr0ET8XkigL"
      },
      "execution_count": null,
      "outputs": []
    },
    {
      "cell_type": "code",
      "source": [
        "# pd.DataFrame(all_embedding1).to_csv(PATH + \"train_entity_1_embedding_2840_16625.csv\", index = False)\n",
        "# pd.DataFrame(all_embedding2).to_csv(PATH + \"train_entity_2_embedding_2840_16625.csv\", index = False)\n"
      ],
      "metadata": {
        "id": "rTulEHSW1NSQ"
      },
      "execution_count": null,
      "outputs": []
    },
    {
      "cell_type": "code",
      "source": [
        "pd.DataFrame(all_embedding1).to_csv(PATH + \"train_entity_1_embedding_16626_end.csv\", index = False)\n",
        "pd.DataFrame(all_embedding2).to_csv(PATH + \"train_entity_2_embedding_16626_end.csv\", index = False)\n"
      ],
      "metadata": {
        "id": "UE-VQ0FMS4H9"
      },
      "execution_count": null,
      "outputs": []
    },
    {
      "cell_type": "code",
      "source": [
        "dev = pd.read_excel(PATH + 'dev.xlsx')\n",
        "\n",
        "dev['token'] = dev['token'].apply(lambda x : eval(x))\n",
        "dev['full_text'] = dev['token'].apply(lambda x : ' '.join(x))\n",
        "dev['entity_1'] = dev.apply(lambda x : ' '.join(x.token[int(x.e1_start) : int(x.e1_end)]), axis=1)\n",
        "dev['entity_2'] = dev.apply(lambda x : ' '.join(x.token[int(x.e2_start) : int(x.e2_end)]), axis=1)\n",
        "\n",
        "dev['full_text_entity_1_masked'] =  dev.apply(lambda x : ' '.join(x.token[0 : int(x.e1_start)] + ['[MASK]'] + x.token[int(x.e1_end):]), axis=1)\n",
        "dev['full_text_entity_2_masked'] =  dev.apply(lambda x : ' '.join(x.token[0 : int(x.e2_start)] + ['[MASK]'] + x.token[int(x.e2_end):]), axis=1)\n",
        "\n",
        "dev_use = dev[['full_text', 'entity_1', 'entity_2', 'e1_type',\t'e2_type', 'full_text_entity_1_masked', 'full_text_entity_2_masked', 'rel_group', 'relation']]\n",
        "\n",
        "\n",
        "all_embedding1 = []\n",
        "all_embedding2 = []\n",
        "N = 0\n",
        "for preprocessed_text1, preprocessed_text2 in zip(dev_use['full_text_entity_1_masked'].tolist()[N:], dev_use['full_text_entity_2_masked'].tolist()[N:]):\n",
        "  embedding1 = get_embeddings(preprocessed_text1)\n",
        "  embedding2 = get_embeddings(preprocessed_text2)\n",
        "  all_embedding1.append(embedding1)\n",
        "  all_embedding2.append(embedding2)\n",
        "\n",
        "pd.DataFrame(all_embedding1).to_csv(PATH + \"dev_entity_1_embedding_all.csv\", index = False)\n",
        "pd.DataFrame(all_embedding2).to_csv(PATH + \"dev_entity_2_embedding_all.csv\", index = False)"
      ],
      "metadata": {
        "id": "VUTYQnunTPHK"
      },
      "execution_count": null,
      "outputs": []
    },
    {
      "cell_type": "code",
      "source": [
        "test = pd.read_excel(PATH + 'test.xlsx')\n",
        "\n",
        "test['token'] = test['token'].apply(lambda x : eval(x))\n",
        "test['full_text'] = test['token'].apply(lambda x : ' '.join(x))\n",
        "test['entity_1'] = test.apply(lambda x : ' '.join(x.token[int(x.e1_start) : int(x.e1_end)]), axis=1)\n",
        "test['entity_2'] = test.apply(lambda x : ' '.join(x.token[int(x.e2_start) : int(x.e2_end)]), axis=1)\n",
        "\n",
        "test['full_text_entity_1_masked'] =  test.apply(lambda x : ' '.join(x.token[0 : int(x.e1_start)] + ['[MASK]'] + x.token[int(x.e1_end):]), axis=1)\n",
        "test['full_text_entity_2_masked'] =  test.apply(lambda x : ' '.join(x.token[0 : int(x.e2_start)] + ['[MASK]'] + x.token[int(x.e2_end):]), axis=1)\n",
        "\n",
        "test_use = test[['full_text', 'entity_1', 'entity_2', 'e1_type',\t'e2_type', 'full_text_entity_1_masked', 'full_text_entity_2_masked', 'rel_group', 'relation']]\n",
        "\n",
        "\n",
        "all_embedding1 = []\n",
        "all_embedding2 = []\n",
        "N = 0\n",
        "for preprocessed_text1, preprocessed_text2 in zip(test_use['full_text_entity_1_masked'].tolist()[N:], test_use['full_text_entity_2_masked'].tolist()[N:]):\n",
        "  embedding1 = get_embeddings(preprocessed_text1)\n",
        "  embedding2 = get_embeddings(preprocessed_text2)\n",
        "  all_embedding1.append(embedding1)\n",
        "  all_embedding2.append(embedding2)\n",
        "\n",
        "pd.DataFrame(all_embedding1).to_csv(PATH + \"test_entity_1_embedding_all.csv\", index = False)\n",
        "pd.DataFrame(all_embedding2).to_csv(PATH + \"test_entity_2_embedding_all.csv\", index = False)"
      ],
      "metadata": {
        "id": "JJjXks9dUWjp"
      },
      "execution_count": null,
      "outputs": []
    },
    {
      "cell_type": "code",
      "source": [
        "data = pd.read_excel(PATH + \"train.xlsx\")"
      ],
      "metadata": {
        "id": "dXqgHd8oHzXR"
      },
      "execution_count": null,
      "outputs": []
    },
    {
      "cell_type": "code",
      "source": [
        "data.columns"
      ],
      "metadata": {
        "colab": {
          "base_uri": "https://localhost:8080/"
        },
        "id": "1rZD8IiEQWiM",
        "outputId": "16b985d2-7557-4634-dcad-e39bc825b2dc"
      },
      "execution_count": null,
      "outputs": [
        {
          "output_type": "execute_result",
          "data": {
            "text/plain": [
              "Index(['id', 'docid', 'relation', 'rel_group', 'token', 'e1_start', 'e1_end',\n",
              "       'e2_start', 'e2_end', 'e1_type', 'e2_type', 'spacy_pos', 'spacy_ner',\n",
              "       'spacy_head', 'spacy_deprel', 'sdp', 'sdp_tok_idx', 'token_test', 'e1',\n",
              "       'e2'],\n",
              "      dtype='object')"
            ]
          },
          "metadata": {},
          "execution_count": 8
        }
      ]
    },
    {
      "cell_type": "code",
      "source": [
        "from sklearn.preprocessing import OneHotEncoder"
      ],
      "metadata": {
        "id": "GL716xZbRS9W"
      },
      "execution_count": null,
      "outputs": []
    },
    {
      "cell_type": "code",
      "source": [
        "train_X = pd.concat([pd.get_dummies(pd.read_excel(PATH + \"train.xlsx\")[['rel_group', 'e1_type', 'e2_type']]).reset_index(drop = True), pd.read_csv(PATH + \"train_entity_1_embedding_0_2839.csv\").append(pd.read_csv(PATH + \"train_entity_1_embedding_2840_16625.csv\")).append(pd.read_csv(PATH + \"train_entity_1_embedding_16626_end.csv\")).reset_index(drop = True), pd.read_csv(PATH + \"train_entity_2_embedding_0_2839.csv\").append(pd.read_csv(PATH + \"train_entity_2_embedding_2840_16625.csv\")).append(pd.read_csv(PATH + \"train_entity_2_embedding_16626_end.csv\")).reset_index(drop = True)], axis = 1)\n",
        "train_y = pd.read_excel(PATH + \"train.xlsx\")['relation']\n",
        "\n",
        "\n",
        "valid_X = pd.concat([pd.get_dummies(pd.read_excel(PATH + \"dev.xlsx\")[['rel_group', 'e1_type', 'e2_type']]).reset_index(drop = True), pd.read_csv(PATH + \"dev_entity_1_embedding_all.csv\"), pd.read_csv(PATH + \"dev_entity_2_embedding_all.csv\")], axis = 1)\n",
        "valid_y = pd.read_excel(PATH + \"dev.xlsx\")['relation']\n",
        "\n",
        "test_X = pd.concat([pd.get_dummies(pd.read_excel(PATH + \"test.xlsx\")[['rel_group', 'e1_type', 'e2_type']]).reset_index(drop = True), pd.read_csv(PATH + \"test_entity_1_embedding_all.csv\"), pd.read_csv(PATH + \"test_entity_2_embedding_all.csv\")], axis = 1)\n",
        "test_y = pd.read_excel(PATH + \"test.xlsx\")['relation']"
      ],
      "metadata": {
        "colab": {
          "base_uri": "https://localhost:8080/"
        },
        "id": "nMNIRebDFhha",
        "outputId": "53b3a788-79b2-48b5-8f5a-f1c166529d6a"
      },
      "execution_count": null,
      "outputs": [
        {
          "output_type": "stream",
          "name": "stderr",
          "text": [
            "<ipython-input-10-6ff489112241>:1: FutureWarning: The frame.append method is deprecated and will be removed from pandas in a future version. Use pandas.concat instead.\n",
            "  train_X = pd.concat([pd.get_dummies(pd.read_excel(PATH + \"train.xlsx\")[['rel_group', 'e1_type', 'e2_type']]).reset_index(drop = True), pd.read_csv(PATH + \"train_entity_1_embedding_0_2839.csv\").append(pd.read_csv(PATH + \"train_entity_1_embedding_2840_16625.csv\")).append(pd.read_csv(PATH + \"train_entity_1_embedding_16626_end.csv\")).reset_index(drop = True), pd.read_csv(PATH + \"train_entity_2_embedding_0_2839.csv\").append(pd.read_csv(PATH + \"train_entity_2_embedding_2840_16625.csv\")).append(pd.read_csv(PATH + \"train_entity_2_embedding_16626_end.csv\")).reset_index(drop = True)], axis = 1)\n",
            "<ipython-input-10-6ff489112241>:1: FutureWarning: The frame.append method is deprecated and will be removed from pandas in a future version. Use pandas.concat instead.\n",
            "  train_X = pd.concat([pd.get_dummies(pd.read_excel(PATH + \"train.xlsx\")[['rel_group', 'e1_type', 'e2_type']]).reset_index(drop = True), pd.read_csv(PATH + \"train_entity_1_embedding_0_2839.csv\").append(pd.read_csv(PATH + \"train_entity_1_embedding_2840_16625.csv\")).append(pd.read_csv(PATH + \"train_entity_1_embedding_16626_end.csv\")).reset_index(drop = True), pd.read_csv(PATH + \"train_entity_2_embedding_0_2839.csv\").append(pd.read_csv(PATH + \"train_entity_2_embedding_2840_16625.csv\")).append(pd.read_csv(PATH + \"train_entity_2_embedding_16626_end.csv\")).reset_index(drop = True)], axis = 1)\n",
            "<ipython-input-10-6ff489112241>:1: FutureWarning: The frame.append method is deprecated and will be removed from pandas in a future version. Use pandas.concat instead.\n",
            "  train_X = pd.concat([pd.get_dummies(pd.read_excel(PATH + \"train.xlsx\")[['rel_group', 'e1_type', 'e2_type']]).reset_index(drop = True), pd.read_csv(PATH + \"train_entity_1_embedding_0_2839.csv\").append(pd.read_csv(PATH + \"train_entity_1_embedding_2840_16625.csv\")).append(pd.read_csv(PATH + \"train_entity_1_embedding_16626_end.csv\")).reset_index(drop = True), pd.read_csv(PATH + \"train_entity_2_embedding_0_2839.csv\").append(pd.read_csv(PATH + \"train_entity_2_embedding_2840_16625.csv\")).append(pd.read_csv(PATH + \"train_entity_2_embedding_16626_end.csv\")).reset_index(drop = True)], axis = 1)\n",
            "<ipython-input-10-6ff489112241>:1: FutureWarning: The frame.append method is deprecated and will be removed from pandas in a future version. Use pandas.concat instead.\n",
            "  train_X = pd.concat([pd.get_dummies(pd.read_excel(PATH + \"train.xlsx\")[['rel_group', 'e1_type', 'e2_type']]).reset_index(drop = True), pd.read_csv(PATH + \"train_entity_1_embedding_0_2839.csv\").append(pd.read_csv(PATH + \"train_entity_1_embedding_2840_16625.csv\")).append(pd.read_csv(PATH + \"train_entity_1_embedding_16626_end.csv\")).reset_index(drop = True), pd.read_csv(PATH + \"train_entity_2_embedding_0_2839.csv\").append(pd.read_csv(PATH + \"train_entity_2_embedding_2840_16625.csv\")).append(pd.read_csv(PATH + \"train_entity_2_embedding_16626_end.csv\")).reset_index(drop = True)], axis = 1)\n"
          ]
        }
      ]
    },
    {
      "cell_type": "code",
      "source": [
        "clf = MLPClassifier(random_state=1, hidden_layer_sizes = [512,128], max_iter=300).fit(train_X, train_y)"
      ],
      "metadata": {
        "id": "FrGPuy9ZH_9T"
      },
      "execution_count": null,
      "outputs": []
    },
    {
      "cell_type": "code",
      "source": [
        "train_y_predicted = clf.predict(train_X)\n",
        "\n",
        "print(\"precision\", precision_score(train_y, train_y_predicted, average='weighted'))\n",
        "print(\"recall\", recall_score(train_y, train_y_predicted, average='weighted'))\n",
        "print(\"f1\", f1_score(train_y, train_y_predicted, average='weighted'))"
      ],
      "metadata": {
        "colab": {
          "base_uri": "https://localhost:8080/"
        },
        "id": "qa_Yld7bLhAC",
        "outputId": "05308cf5-7c62-4153-ec3c-84f276b09b1f"
      },
      "execution_count": null,
      "outputs": [
        {
          "output_type": "stream",
          "name": "stdout",
          "text": [
            "precision 0.9969158774937321\n",
            "recall 0.9969108121574489\n",
            "f1 0.996907178538138\n"
          ]
        }
      ]
    },
    {
      "cell_type": "code",
      "source": [
        "valid_y_predicted = clf.predict(valid_X)\n",
        "\n",
        "print(\"precision\", precision_score(valid_y, valid_y_predicted, average='weighted'))\n",
        "print(\"recall\", recall_score(valid_y, valid_y_predicted, average='weighted'))\n",
        "print(\"f1\", f1_score(valid_y, valid_y_predicted, average='weighted'))"
      ],
      "metadata": {
        "colab": {
          "base_uri": "https://localhost:8080/"
        },
        "id": "VwUzADSEIx14",
        "outputId": "7a895a1d-0eb5-4ce1-f717-cdcbdab562ef"
      },
      "execution_count": null,
      "outputs": [
        {
          "output_type": "stream",
          "name": "stdout",
          "text": [
            "precision 0.8220207556215636\n",
            "recall 0.8190896423594983\n",
            "f1 0.8172376829946659\n"
          ]
        }
      ]
    },
    {
      "cell_type": "code",
      "source": [
        "test_y_predicted = clf.predict(test_X)\n",
        "\n",
        "print(\"precision\", precision_score(test_y, test_y_predicted, average='weighted'))\n",
        "print(\"recall\", recall_score(test_y, test_y_predicted, average='weighted'))\n",
        "print(\"f1\", f1_score(test_y, test_y_predicted, average='weighted'))"
      ],
      "metadata": {
        "colab": {
          "base_uri": "https://localhost:8080/"
        },
        "id": "EqaDnfFXLKR_",
        "outputId": "5ae47761-6120-469d-952f-5c65d66232d5"
      },
      "execution_count": null,
      "outputs": [
        {
          "output_type": "stream",
          "name": "stdout",
          "text": [
            "precision 0.7476760212745514\n",
            "recall 0.7430232558139535\n",
            "f1 0.7361787255017052\n"
          ]
        },
        {
          "output_type": "stream",
          "name": "stderr",
          "text": [
            "/usr/local/lib/python3.10/dist-packages/sklearn/metrics/_classification.py:1344: UndefinedMetricWarning: Precision is ill-defined and being set to 0.0 in labels with no predicted samples. Use `zero_division` parameter to control this behavior.\n",
            "  _warn_prf(average, modifier, msg_start, len(result))\n"
          ]
        }
      ]
    },
    {
      "cell_type": "code",
      "source": [
        "import pickle\n",
        "filename = PATH + 'REFinD_best_model.pickle'\n",
        "pickle.dump(clf, open(filename, 'wb'))"
      ],
      "metadata": {
        "id": "gmw1yhpAtsZC"
      },
      "execution_count": null,
      "outputs": []
    },
    {
      "cell_type": "markdown",
      "source": [
        "## Performance on 500 randomly selected instances from test set"
      ],
      "metadata": {
        "id": "EZ0_a-a8xCcy"
      }
    },
    {
      "cell_type": "code",
      "source": [
        "test_X_y_sample500 = test_X.copy()\n",
        "test_X_y_sample500['relation'] = test_y\n",
        "test_X_y_sample500 = test_X_y_sample500.sample(500, random_state=0)\n",
        "\n",
        "test_X_sample500 = test_X_y_sample500.drop(['relation'], axis = 1)\n",
        "test_y_predicted_sample500 = clf.predict(test_X_sample500)\n",
        "test_y_sample500 = test_X_y_sample500['relation']\n",
        "\n",
        "print(\"precision\", precision_score(test_y_sample500 , test_y_predicted_sample500 , average='weighted'))\n",
        "print(\"recall\", recall_score(test_y_sample500 , test_y_predicted_sample500 , average='weighted'))\n",
        "print(\"f1\", f1_score(test_y_sample500, test_y_predicted_sample500, average='weighted'))"
      ],
      "metadata": {
        "colab": {
          "base_uri": "https://localhost:8080/"
        },
        "id": "Nf1m8FYSuI33",
        "outputId": "6d4930d3-100f-4f31-8e59-0a0838cc49d2"
      },
      "execution_count": null,
      "outputs": [
        {
          "output_type": "stream",
          "name": "stdout",
          "text": [
            "precision 0.7259239178311919\n",
            "recall 0.724\n",
            "f1 0.7169195686515631\n"
          ]
        },
        {
          "output_type": "stream",
          "name": "stderr",
          "text": [
            "/usr/local/lib/python3.10/dist-packages/sklearn/metrics/_classification.py:1344: UndefinedMetricWarning: Precision is ill-defined and being set to 0.0 in labels with no predicted samples. Use `zero_division` parameter to control this behavior.\n",
            "  _warn_prf(average, modifier, msg_start, len(result))\n",
            "/usr/local/lib/python3.10/dist-packages/sklearn/metrics/_classification.py:1344: UndefinedMetricWarning: Recall is ill-defined and being set to 0.0 in labels with no true samples. Use `zero_division` parameter to control this behavior.\n",
            "  _warn_prf(average, modifier, msg_start, len(result))\n"
          ]
        }
      ]
    },
    {
      "cell_type": "code",
      "source": [
        "Counter(test_y_predicted)"
      ],
      "metadata": {
        "colab": {
          "base_uri": "https://localhost:8080/"
        },
        "id": "l7huqU-TMsFA",
        "outputId": "c0a0c463-b59b-4df3-fccb-796484b92bac"
      },
      "execution_count": null,
      "outputs": [
        {
          "output_type": "execute_result",
          "data": {
            "text/plain": [
              "Counter({'no_relation': 2198,\n",
              "         'org:org:shares_of': 54,\n",
              "         'org:org:subsidiary_of': 79,\n",
              "         'org:org:acquired_by': 4,\n",
              "         'pers:org:employee_of': 528,\n",
              "         'org:org:agreement_with': 59,\n",
              "         'pers:univ:attended': 6,\n",
              "         'pers:title:title': 560,\n",
              "         'pers:org:founder_of': 14,\n",
              "         'pers:org:member_of': 88,\n",
              "         'org:gpe:operations_in': 430,\n",
              "         'org:gpe:headquartered_in': 28,\n",
              "         'org:gpe:formed_in': 18,\n",
              "         'org:money:revenue_of': 42,\n",
              "         'org:money:loss_of': 48,\n",
              "         'org:money:profit_of': 10,\n",
              "         'org:date:formed_on': 94,\n",
              "         'org:date:acquired_on': 34,\n",
              "         'pers:univ:employee_of': 2,\n",
              "         'pers:gov_agy:member_of': 2,\n",
              "         'org:money:cost_of': 1,\n",
              "         'pers:univ:member_of': 1})"
            ]
          },
          "metadata": {},
          "execution_count": 29
        }
      ]
    },
    {
      "cell_type": "code",
      "source": [
        "test_y_predicted"
      ],
      "metadata": {
        "colab": {
          "base_uri": "https://localhost:8080/"
        },
        "id": "3qJyN8jyMjCL",
        "outputId": "61250f0f-dfb7-4f5a-e5ef-2d4415cd2415"
      },
      "execution_count": null,
      "outputs": [
        {
          "output_type": "execute_result",
          "data": {
            "text/plain": [
              "array(['no_relation', 'no_relation', 'no_relation', ..., 'no_relation',\n",
              "       'no_relation', 'no_relation'], dtype='<U24')"
            ]
          },
          "metadata": {},
          "execution_count": 30
        }
      ]
    },
    {
      "cell_type": "code",
      "source": [
        "predicted_num_dict = {'no_relation':0,\n",
        "\"org:date:formed_on\":1,\n",
        "\"org:gpe:operations_in\":2,\n",
        "\"pers:org:member_of\":3,\n",
        "\"pers:org:employee_of\":4,\n",
        "\"pers:gov_agy:member_of\":5,\n",
        "\"org:org:acquired_by\":6,\n",
        "\"org:money:loss_of\":7,\n",
        "\"org:gpe:headquartered_in\":8,\n",
        "\"pers:univ:employee_of\":9,\n",
        "\"org:date:acquired_on\":10,\n",
        "\"pers:univ:attended\":11,\n",
        "\"org:gpe:formed_in\":12,\n",
        "\"org:money:profit_of\":13,\n",
        "\"org:money:cost_of\":14,\n",
        "\"org:org:subsidiary_of\":15,\n",
        "\"org:org:shares_of\":16,\n",
        "\"pers:org:founder_of\":17,\n",
        "\"pers:title:title\":18,\n",
        "\"org:money:revenue_of\":19,\n",
        "\"org:org:agreement_with\":20,\n",
        "\"pers:univ:member_of\":21}"
      ],
      "metadata": {
        "id": "O1RbBKjvPIBb"
      },
      "execution_count": null,
      "outputs": []
    },
    {
      "cell_type": "code",
      "source": [
        "pd.DataFrame([predicted_num_dict[i] for i in test_y_predicted]).to_csv(\"LIPI.csv\", index = False, header = None)"
      ],
      "metadata": {
        "id": "BHEDZp0QMvkZ"
      },
      "execution_count": null,
      "outputs": []
    },
    {
      "cell_type": "code",
      "source": [
        "!wc -l LIPI.csv"
      ],
      "metadata": {
        "colab": {
          "base_uri": "https://localhost:8080/"
        },
        "id": "Pb37MQDbS9Uh",
        "outputId": "ddbabc95-1365-44bc-f61a-1f8b35013335"
      },
      "execution_count": null,
      "outputs": [
        {
          "output_type": "stream",
          "name": "stdout",
          "text": [
            "4300 LIPI.csv\n"
          ]
        }
      ]
    },
    {
      "cell_type": "code",
      "source": [
        "!zip -r \"LIPI_SUBMISSION.zip\" \"LIPI.csv\""
      ],
      "metadata": {
        "colab": {
          "base_uri": "https://localhost:8080/"
        },
        "id": "0ULoUoBIO2hr",
        "outputId": "fdb37fe6-4000-41d5-94c2-f401c61c14ac"
      },
      "execution_count": null,
      "outputs": [
        {
          "output_type": "stream",
          "name": "stdout",
          "text": [
            "  adding: LIPI.csv (deflated 87%)\n"
          ]
        }
      ]
    },
    {
      "cell_type": "code",
      "source": [
        "from google.colab import files\n",
        "files.download('LIPI_SUBMISSION.zip')"
      ],
      "metadata": {
        "colab": {
          "base_uri": "https://localhost:8080/",
          "height": 17
        },
        "id": "GXj0H8alRxbd",
        "outputId": "e85524f3-66fe-4528-f310-9851c854fe5b"
      },
      "execution_count": null,
      "outputs": [
        {
          "output_type": "display_data",
          "data": {
            "text/plain": [
              "<IPython.core.display.Javascript object>"
            ],
            "application/javascript": [
              "\n",
              "    async function download(id, filename, size) {\n",
              "      if (!google.colab.kernel.accessAllowed) {\n",
              "        return;\n",
              "      }\n",
              "      const div = document.createElement('div');\n",
              "      const label = document.createElement('label');\n",
              "      label.textContent = `Downloading \"${filename}\": `;\n",
              "      div.appendChild(label);\n",
              "      const progress = document.createElement('progress');\n",
              "      progress.max = size;\n",
              "      div.appendChild(progress);\n",
              "      document.body.appendChild(div);\n",
              "\n",
              "      const buffers = [];\n",
              "      let downloaded = 0;\n",
              "\n",
              "      const channel = await google.colab.kernel.comms.open(id);\n",
              "      // Send a message to notify the kernel that we're ready.\n",
              "      channel.send({})\n",
              "\n",
              "      for await (const message of channel.messages) {\n",
              "        // Send a message to notify the kernel that we're ready.\n",
              "        channel.send({})\n",
              "        if (message.buffers) {\n",
              "          for (const buffer of message.buffers) {\n",
              "            buffers.push(buffer);\n",
              "            downloaded += buffer.byteLength;\n",
              "            progress.value = downloaded;\n",
              "          }\n",
              "        }\n",
              "      }\n",
              "      const blob = new Blob(buffers, {type: 'application/binary'});\n",
              "      const a = document.createElement('a');\n",
              "      a.href = window.URL.createObjectURL(blob);\n",
              "      a.download = filename;\n",
              "      div.appendChild(a);\n",
              "      a.click();\n",
              "      div.remove();\n",
              "    }\n",
              "  "
            ]
          },
          "metadata": {}
        },
        {
          "output_type": "display_data",
          "data": {
            "text/plain": [
              "<IPython.core.display.Javascript object>"
            ],
            "application/javascript": [
              "download(\"download_5b0af8be-b6e8-4292-b9cd-0b8a8a4deb75\", \"LIPI_SUBMISSION.zip\", 1386)"
            ]
          },
          "metadata": {}
        }
      ]
    }
  ]
}